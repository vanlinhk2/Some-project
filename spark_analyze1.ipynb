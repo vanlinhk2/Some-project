{
  "cells": [
    {
      "cell_type": "code",
      "execution_count": null,
      "metadata": {
        "colab": {
          "background_save": true,
          "base_uri": "https://localhost:8080/"
        },
        "id": "WuDV5uD-3H6j",
        "outputId": "83e3aa60-a60c-49a3-fd0e-093d25b54a2e"
      },
      "outputs": [
        {
          "name": "stdout",
          "output_type": "stream",
          "text": [
            "Hit:1 http://ppa.launchpad.net/c2d4u.team/c2d4u4.0+/ubuntu focal InRelease\n",
            "Hit:2 http://ppa.launchpad.net/cran/libgit2/ubuntu focal InRelease\n",
            "Get:3 https://cloud.r-project.org/bin/linux/ubuntu focal-cran40/ InRelease [3,622 B]\n",
            "Hit:4 http://ppa.launchpad.net/deadsnakes/ppa/ubuntu focal InRelease\n",
            "Hit:5 http://ppa.launchpad.net/graphics-drivers/ppa/ubuntu focal InRelease\n",
            "Get:6 https://developer.download.nvidia.com/compute/cuda/repos/ubuntu2004/x86_64  InRelease [1,581 B]\n",
            "Hit:7 http://ppa.launchpad.net/ubuntugis/ppa/ubuntu focal InRelease\n",
            "Get:8 http://security.ubuntu.com/ubuntu focal-security InRelease [114 kB]\n",
            "Hit:9 http://archive.ubuntu.com/ubuntu focal InRelease\n",
            "Get:10 http://archive.ubuntu.com/ubuntu focal-updates InRelease [114 kB]\n",
            "Get:11 http://archive.ubuntu.com/ubuntu focal-backports InRelease [108 kB]\n",
            "Get:12 https://developer.download.nvidia.com/compute/cuda/repos/ubuntu2004/x86_64  Packages [969 kB]\n",
            "Get:13 http://security.ubuntu.com/ubuntu focal-security/main amd64 Packages [2,590 kB]\n",
            "Get:14 http://archive.ubuntu.com/ubuntu focal-updates/universe amd64 Packages [1,323 kB]\n",
            "Get:15 http://archive.ubuntu.com/ubuntu focal-updates/main amd64 Packages [3,069 kB]\n",
            "Get:16 http://security.ubuntu.com/ubuntu focal-security/universe amd64 Packages [1,027 kB]\n",
            "Get:17 http://archive.ubuntu.com/ubuntu focal-backports/main amd64 Packages [55.2 kB]\n",
            "Get:18 http://archive.ubuntu.com/ubuntu focal-backports/universe amd64 Packages [28.6 kB]\n",
            "Fetched 9,403 kB in 2s (4,792 kB/s)\n",
            "Reading package lists... Done\n",
            "Building dependency tree       \n",
            "Reading state information... Done\n",
            "23 packages can be upgraded. Run 'apt list --upgradable' to see them.\n"
          ]
        }
      ],
      "source": [
        "!sudo apt update"
      ]
    },
    {
      "cell_type": "code",
      "execution_count": null,
      "metadata": {
        "id": "6RfiZ8hB34DA"
      },
      "outputs": [],
      "source": [
        "!apt-get install openjdk-8-jdk-headless -qq > /dev/null\n",
        "!wget -q https://archive.apache.org/dist/spark/spark-3.0.1/spark-3.0.1-bin-hadoop2.7.tgz\n",
        "!tar xf spark-3.0.1-bin-hadoop2.7.tgz"
      ]
    },
    {
      "cell_type": "code",
      "execution_count": null,
      "metadata": {
        "colab": {
          "base_uri": "https://localhost:8080/"
        },
        "id": "cS69iZ2z36Tm",
        "outputId": "b9f5e9e7-07bf-4b44-fa3f-77d281d352bd"
      },
      "outputs": [
        {
          "name": "stdout",
          "output_type": "stream",
          "text": [
            "Mounted at /content/drive\n"
          ]
        }
      ],
      "source": [
        "from google.colab import drive\n",
        "drive.mount('/content/drive')"
      ]
    },
    {
      "cell_type": "code",
      "execution_count": null,
      "metadata": {
        "id": "2PkoFS0B4YSm"
      },
      "outputs": [],
      "source": [
        "import os\n",
        "os.environ[\"JAVA_HOME\"] = \"/usr/lib/jvm/java-8-openjdk-amd64\"\n",
        "os.environ[\"SPARK_HOME\"] = \"/content/spark-3.0.1-bin-hadoop2.7\""
      ]
    },
    {
      "cell_type": "code",
      "execution_count": null,
      "metadata": {
        "id": "AlpI4qcF5G5R"
      },
      "outputs": [],
      "source": [
        "!pip install -q findspark"
      ]
    },
    {
      "cell_type": "code",
      "execution_count": null,
      "metadata": {
        "colab": {
          "background_save": true
        },
        "id": "pLHtZulL5hQV"
      },
      "outputs": [],
      "source": [
        "import findspark\n",
        "findspark.init()"
      ]
    },
    {
      "cell_type": "code",
      "execution_count": 7,
      "metadata": {
        "colab": {
          "base_uri": "https://localhost:8080/"
        },
        "id": "ywKyDMia5juu",
        "outputId": "95d76e72-a1d2-43f4-a919-cae626f08adf"
      },
      "outputs": [
        {
          "output_type": "stream",
          "name": "stdout",
          "text": [
            "SparkContext : <SparkContext master=local appName=My First Spark Application>\n"
          ]
        }
      ],
      "source": [
        "from pyspark.context import SparkContext\n",
        "#create SparkContext\n",
        "sc = SparkContext(\"local\", \"My First Spark Application\")\n",
        "print(\"SparkContext :\",sc)"
      ]
    },
    {
      "cell_type": "code",
      "execution_count": 8,
      "metadata": {
        "id": "9jhaw1MC5k1_"
      },
      "outputs": [],
      "source": [
        "from pyspark.sql import SparkSession\n",
        "spark = SparkSession.builder.getOrCreate()"
      ]
    },
    {
      "cell_type": "code",
      "execution_count": 9,
      "metadata": {
        "id": "adSkrmUQ5sl_"
      },
      "outputs": [],
      "source": [
        "from pyspark.sql.functions import *"
      ]
    },
    {
      "cell_type": "code",
      "execution_count": 77,
      "metadata": {
        "colab": {
          "base_uri": "https://localhost:8080/"
        },
        "id": "ldP1PWa95yue",
        "outputId": "0d34cc20-a417-46c6-def2-8368436abd44"
      },
      "outputs": [
        {
          "output_type": "stream",
          "name": "stdout",
          "text": [
            "+------+-------+------+---------+\n",
            "|userId|movieId|rating|timeStamp|\n",
            "+------+-------+------+---------+\n",
            "|   196|    242|     3|881250949|\n",
            "|   186|    302|     3|891717742|\n",
            "|    22|    377|     1|878887116|\n",
            "|   244|     51|     2|880606923|\n",
            "|   166|    346|     1|886397596|\n",
            "|   298|    474|     4|884182806|\n",
            "|   115|    265|     2|881171488|\n",
            "|   253|    465|     5|891628467|\n",
            "|   305|    451|     3|886324817|\n",
            "|     6|     86|     3|883603013|\n",
            "+------+-------+------+---------+\n",
            "only showing top 10 rows\n",
            "\n"
          ]
        }
      ],
      "source": [
        "dfRatings = spark.read.option(\"inferSchema\", \"true\").option(\"delimiter\", \"\\t\").csv('/content/u.data')\n",
        "dfRatings = dfRatings.withColumnRenamed(\"_c0\", 'userId').withColumnRenamed(\"_c1\", \"movieId\").withColumnRenamed(\"_c2\", \"rating\").withColumnRenamed(\"_c3\",\"timeStamp\")\n",
        "dfRatings.show(10)"
      ]
    },
    {
      "cell_type": "code",
      "execution_count": 78,
      "metadata": {
        "colab": {
          "base_uri": "https://localhost:8080/"
        },
        "id": "oBnYhlXc5203",
        "outputId": "a4f8df17-9711-4d33-f435-7a414311036e"
      },
      "outputs": [
        {
          "output_type": "stream",
          "name": "stdout",
          "text": [
            "+------+---+------+-------------+-------+\n",
            "|userId|age|gender|   occupation|zipcode|\n",
            "+------+---+------+-------------+-------+\n",
            "|     1| 24|     M|   technician|  85711|\n",
            "|     2| 53|     F|        other|  94043|\n",
            "|     3| 23|     M|       writer|  32067|\n",
            "|     4| 24|     M|   technician|  43537|\n",
            "|     5| 33|     F|        other|  15213|\n",
            "|     6| 42|     M|    executive|  98101|\n",
            "|     7| 57|     M|administrator|  91344|\n",
            "|     8| 36|     M|administrator|  05201|\n",
            "|     9| 29|     M|      student|  01002|\n",
            "|    10| 53|     M|       lawyer|  90703|\n",
            "+------+---+------+-------------+-------+\n",
            "only showing top 10 rows\n",
            "\n"
          ]
        }
      ],
      "source": [
        "dfUsers = spark.read.option(\"inferSchema\", \"true\").option(\"delimiter\", \"|\").csv('/content/u.user')\n",
        "dfUsers =dfUsers.withColumnRenamed(\"_c0\",\"userId\").withColumnRenamed(\"_c1\", \"age\").withColumnRenamed(\"_c2\", \"gender\").withColumnRenamed(\"_c3\",\"occupation\").withColumnRenamed(\"_c4\",\"zipcode\")\n",
        "dfUsers.show(10)"
      ]
    },
    {
      "cell_type": "code",
      "execution_count": 79,
      "metadata": {
        "colab": {
          "base_uri": "https://localhost:8080/"
        },
        "id": "8zXpnALF6B_G",
        "outputId": "e5d71e20-e5e7-4da3-fd32-ab4bb584592b"
      },
      "outputs": [
        {
          "output_type": "stream",
          "name": "stdout",
          "text": [
            "+-------+--------------------+------------+-----------------+--------------------+---+---+---+---+---+----+----+----+----+----+----+----+----+----+----+----+----+----+----+\n",
            "|movieId|         movie title|release date|video relase date|            IMDb URL|_c5|_c6|_c7|_c8|_c9|_c10|_c11|_c12|_c13|_c14|_c15|_c16|_c17|_c18|_c19|_c20|_c21|_c22|_c23|\n",
            "+-------+--------------------+------------+-----------------+--------------------+---+---+---+---+---+----+----+----+----+----+----+----+----+----+----+----+----+----+----+\n",
            "|      1|    Toy Story (1995)| 01-Jan-1995|             null|http://us.imdb.co...|  0|  0|  0|  1|  1|   1|   0|   0|   0|   0|   0|   0|   0|   0|   0|   0|   0|   0|   0|\n",
            "|      2|    GoldenEye (1995)| 01-Jan-1995|             null|http://us.imdb.co...|  0|  1|  1|  0|  0|   0|   0|   0|   0|   0|   0|   0|   0|   0|   0|   0|   1|   0|   0|\n",
            "|      3|   Four Rooms (1995)| 01-Jan-1995|             null|http://us.imdb.co...|  0|  0|  0|  0|  0|   0|   0|   0|   0|   0|   0|   0|   0|   0|   0|   0|   1|   0|   0|\n",
            "|      4|   Get Shorty (1995)| 01-Jan-1995|             null|http://us.imdb.co...|  0|  1|  0|  0|  0|   1|   0|   0|   1|   0|   0|   0|   0|   0|   0|   0|   0|   0|   0|\n",
            "|      5|      Copycat (1995)| 01-Jan-1995|             null|http://us.imdb.co...|  0|  0|  0|  0|  0|   0|   1|   0|   1|   0|   0|   0|   0|   0|   0|   0|   1|   0|   0|\n",
            "|      6|Shanghai Triad (Y...| 01-Jan-1995|             null|http://us.imdb.co...|  0|  0|  0|  0|  0|   0|   0|   0|   1|   0|   0|   0|   0|   0|   0|   0|   0|   0|   0|\n",
            "|      7|Twelve Monkeys (1...| 01-Jan-1995|             null|http://us.imdb.co...|  0|  0|  0|  0|  0|   0|   0|   0|   1|   0|   0|   0|   0|   0|   0|   1|   0|   0|   0|\n",
            "|      8|         Babe (1995)| 01-Jan-1995|             null|http://us.imdb.co...|  0|  0|  0|  0|  1|   1|   0|   0|   1|   0|   0|   0|   0|   0|   0|   0|   0|   0|   0|\n",
            "|      9|Dead Man Walking ...| 01-Jan-1995|             null|http://us.imdb.co...|  0|  0|  0|  0|  0|   0|   0|   0|   1|   0|   0|   0|   0|   0|   0|   0|   0|   0|   0|\n",
            "|     10|  Richard III (1995)| 22-Jan-1996|             null|http://us.imdb.co...|  0|  0|  0|  0|  0|   0|   0|   0|   1|   0|   0|   0|   0|   0|   0|   0|   0|   1|   0|\n",
            "+-------+--------------------+------------+-----------------+--------------------+---+---+---+---+---+----+----+----+----+----+----+----+----+----+----+----+----+----+----+\n",
            "only showing top 10 rows\n",
            "\n"
          ]
        }
      ],
      "source": [
        "dfMovies = spark.read.option(\"inferSchema\", \"true\").option(\"delimiter\", \"|\").csv('/content/u.item')\n",
        "dfMovies = dfMovies.withColumnRenamed(\"_c0\", \"movieId\").withColumnRenamed(\"_c1\", \"movie title\").withColumnRenamed(\"_c2\", \"release date\").withColumnRenamed(\"_c3\",\"video relase date\").withColumnRenamed(\"_c4\", \"IMDb URL\")\n",
        "dfMovies.show(10)"
      ]
    },
    {
      "cell_type": "code",
      "execution_count": 80,
      "metadata": {
        "colab": {
          "base_uri": "https://localhost:8080/"
        },
        "id": "mK8-MoZ26FWm",
        "outputId": "e274f6dc-c201-4399-8327-f78202381b92"
      },
      "outputs": [
        {
          "output_type": "stream",
          "name": "stdout",
          "text": [
            "+------+-------------+-----------+-----------+------------------+\n",
            "|userId|count(rating)|max(rating)|min(rating)|       avg(rating)|\n",
            "+------+-------------+-----------+-----------+------------------+\n",
            "|   148|           65|          5|          1|               4.0|\n",
            "|   463|          133|          5|          1|2.8646616541353382|\n",
            "|   471|           31|          5|          1|3.3870967741935485|\n",
            "|   496|          129|          5|          1|3.0310077519379846|\n",
            "|   833|          267|          5|          1| 3.056179775280899|\n",
            "|   243|           81|          5|          1|3.6419753086419755|\n",
            "|   392|          111|          5|          1| 4.045045045045045|\n",
            "|   540|           63|          5|          2|3.7142857142857144|\n",
            "|   623|           45|          5|          1|3.7333333333333334|\n",
            "|   737|           33|          5|          1|3.9696969696969697|\n",
            "|   858|           21|          5|          1|3.4285714285714284|\n",
            "|   897|          185|          5|          1| 3.962162162162162|\n",
            "|    31|           36|          5|          2|3.9166666666666665|\n",
            "|   516|           21|          5|          3| 4.095238095238095|\n",
            "|   251|           77|          5|          2| 3.792207792207792|\n",
            "|    85|          288|          5|          1|3.5381944444444446|\n",
            "|   137|           47|          5|          1| 4.319148936170213|\n",
            "|   451|           98|          5|          1|2.7346938775510203|\n",
            "|   580|           47|          5|          1|3.5531914893617023|\n",
            "|   808|           23|          5|          1| 4.130434782608695|\n",
            "+------+-------------+-----------+-----------+------------------+\n",
            "only showing top 20 rows\n",
            "\n"
          ]
        }
      ],
      "source": [
        "#cau 2\n",
        "dfRatings.groupBy(\"userId\").agg(count(\"rating\"), max('rating'), min('rating'), mean('rating')).show()"
      ]
    },
    {
      "cell_type": "code",
      "execution_count": 81,
      "metadata": {
        "colab": {
          "base_uri": "https://localhost:8080/"
        },
        "id": "OINxbVe-6LcF",
        "outputId": "f624516c-1d46-4fc5-b394-c26354e321c2"
      },
      "outputs": [
        {
          "output_type": "execute_result",
          "data": {
            "text/plain": [
              "[Row(collect_list(movieId)=[61, 189, 33, 160, 20, 202, 171, 265, 155, 117, 47, 222, 253, 113, 227, 17, 90, 64, 92, 228, 266, 121, 114, 132, 74, 134, 98, 186, 221, 84, 31, 70, 60, 177, 27, 260, 145, 174, 159, 82, 56, 272, 80, 229, 140, 225, 235, 120, 125, 215, 6, 104, 49, 206, 76, 72, 185, 96, 213, 233, 258, 81, 78, 212, 143, 151, 51, 175, 107, 218, 209, 259, 108, 262, 12, 14, 97, 44, 53, 163, 210, 184, 157, 201, 150, 183, 248, 208, 128, 242, 148, 112, 193, 264, 219, 232, 236, 252, 200, 180, 250, 85, 91, 10, 254, 129, 241, 130, 255, 103, 118, 54, 267, 24, 86, 196, 39, 164, 230, 36, 23, 224, 73, 67, 65, 190, 100, 226, 243, 154, 214, 161, 62, 188, 102, 69, 170, 38, 9, 246, 22, 21, 179, 187, 135, 68, 146, 176, 166, 138, 247, 89, 2, 30, 63, 249, 269, 32, 141, 211, 40, 270, 133, 239, 194, 256, 220, 93, 8, 205, 234, 105, 147, 99, 1, 197, 173, 75, 268, 34, 144, 271, 119, 26, 158, 37, 181, 136, 257, 237, 131, 109, 182, 71, 223, 46, 169, 41, 162, 110, 66, 77, 199, 57, 50, 192, 178, 5, 87, 238, 156, 106, 167, 115, 11, 245, 35, 137, 127, 16, 79, 261, 45, 48, 25, 251, 195, 153, 101, 168, 123, 191, 4, 263, 203, 55, 42, 139, 240, 7, 149, 43, 165, 116, 198, 124, 95, 217, 58, 142, 216, 126, 83, 231, 204, 3, 207, 244, 19, 29, 18, 59, 15, 111, 52, 88, 13, 28, 172, 122, 152, 94])]"
            ]
          },
          "metadata": {},
          "execution_count": 81
        }
      ],
      "source": [
        "#cau 3\n",
        "dfRatings.filter(\"userId=1\").select(collect_list(\"movieId\")).collect()"
      ]
    },
    {
      "cell_type": "code",
      "execution_count": 82,
      "metadata": {
        "colab": {
          "base_uri": "https://localhost:8080/"
        },
        "id": "OYMj6Jo-6TSe",
        "outputId": "c65211ec-43b9-4609-84cd-fd726ecc0127"
      },
      "outputs": [
        {
          "output_type": "stream",
          "name": "stdout",
          "text": [
            "+-------+----------------+------------+-----------------+--------------------+---+---+---+---+---+----+----+----+----+----+----+----+----+----+----+----+----+----+----+\n",
            "|movieId|     movie title|release date|video relase date|            IMDb URL|_c5|_c6|_c7|_c8|_c9|_c10|_c11|_c12|_c13|_c14|_c15|_c16|_c17|_c18|_c19|_c20|_c21|_c22|_c23|\n",
            "+-------+----------------+------------+-----------------+--------------------+---+---+---+---+---+----+----+----+----+----+----+----+----+----+----+----+----+----+----+\n",
            "|      1|Toy Story (1995)| 01-Jan-1995|             null|http://us.imdb.co...|  0|  0|  0|  1|  1|   1|   0|   0|   0|   0|   0|   0|   0|   0|   0|   0|   0|   0|   0|\n",
            "+-------+----------------+------------+-----------------+--------------------+---+---+---+---+---+----+----+----+----+----+----+----+----+----+----+----+----+----+----+\n",
            "\n"
          ]
        }
      ],
      "source": [
        "#cau 4\n",
        "dfMovies.filter('movieId = 1').show()"
      ]
    },
    {
      "cell_type": "code",
      "execution_count": 83,
      "metadata": {
        "colab": {
          "base_uri": "https://localhost:8080/"
        },
        "id": "w7d3eX_o7R8X",
        "outputId": "befaec5b-c337-4530-b7d8-d3c40a99ddee"
      },
      "outputs": [
        {
          "output_type": "stream",
          "name": "stdout",
          "text": [
            "+-------+------------------+------------+-----------------+--------------------+---+---+---+---+---+----+----+----+----+----+----+----+----+----+----+----+----+----+----+\n",
            "|movieId|       movie title|release date|video relase date|            IMDb URL|_c5|_c6|_c7|_c8|_c9|_c10|_c11|_c12|_c13|_c14|_c15|_c16|_c17|_c18|_c19|_c20|_c21|_c22|_c23|\n",
            "+-------+------------------+------------+-----------------+--------------------+---+---+---+---+---+----+----+----+----+----+----+----+----+----+----+----+----+----+----+\n",
            "|     23|Taxi Driver (1976)| 16-Feb-1996|             null|http://us.imdb.co...|  0|  0|  0|  0|  0|   0|   0|   0|   1|   0|   0|   0|   0|   0|   0|   0|   1|   0|   0|\n",
            "+-------+------------------+------------+-----------------+--------------------+---+---+---+---+---+----+----+----+----+----+----+----+----+----+----+----+----+----+----+\n",
            "\n"
          ]
        }
      ],
      "source": [
        "#cau 5 \n",
        "dfMovies.filter(col(\"movie title\")==\"Taxi Driver (1976)\").show()"
      ]
    },
    {
      "cell_type": "code",
      "execution_count": 84,
      "metadata": {
        "colab": {
          "base_uri": "https://localhost:8080/"
        },
        "id": "C8B-73TJ7d3n",
        "outputId": "e7ef4963-e414-4303-a619-a0482cfcb1a0"
      },
      "outputs": [
        {
          "output_type": "stream",
          "name": "stdout",
          "text": [
            "+-------+-------------+-----------+-----------+------------------+\n",
            "|movieId|count(rating)|max(rating)|min(rating)|       avg(rating)|\n",
            "+-------+-------------+-----------+-----------+------------------+\n",
            "|     23|          182|          5|          2|4.1208791208791204|\n",
            "+-------+-------------+-----------+-----------+------------------+\n",
            "\n"
          ]
        }
      ],
      "source": [
        "c5 = dfRatings.groupBy(\"movieId\").agg(count(\"rating\") ,max('rating'), min('rating'), mean('rating'))\n",
        "c5.filter(col(\"movieId\") == 23).show()"
      ]
    },
    {
      "cell_type": "code",
      "execution_count": 85,
      "metadata": {
        "colab": {
          "base_uri": "https://localhost:8080/"
        },
        "id": "GdBGTAOr7mJe",
        "outputId": "878f3870-b152-4306-c660-248c465752be"
      },
      "outputs": [
        {
          "output_type": "stream",
          "name": "stdout",
          "text": [
            "+-------+-------------+-----------+-----------+------------------+\n",
            "|movieId|count(rating)|max(rating)|min(rating)|       avg(rating)|\n",
            "+-------+-------------+-----------+-----------+------------------+\n",
            "|    496|          231|          5|          1| 4.121212121212121|\n",
            "|    471|          221|          5|          1|3.6108597285067874|\n",
            "|    463|           71|          5|          1| 3.859154929577465|\n",
            "|    148|          128|          5|          1|          3.203125|\n",
            "|   1342|            2|          4|          1|               2.5|\n",
            "|    833|           49|          5|          1| 3.204081632653061|\n",
            "|   1088|           13|          4|          1| 2.230769230769231|\n",
            "|   1591|            6|          5|          1|3.1666666666666665|\n",
            "|   1238|            8|          5|          2|             3.125|\n",
            "|   1580|            1|          1|          1|               1.0|\n",
            "|   1645|            1|          4|          4|               4.0|\n",
            "|    392|           68|          5|          1|3.5441176470588234|\n",
            "|    623|           39|          5|          1| 2.923076923076923|\n",
            "|    540|           43|          4|          1| 2.511627906976744|\n",
            "|    858|            3|          1|          1|               1.0|\n",
            "|    737|           59|          5|          1| 2.983050847457627|\n",
            "|    243|          132|          5|          1|2.4393939393939394|\n",
            "|   1025|           44|          5|          1|2.9318181818181817|\n",
            "|   1084|           21|          5|          2| 3.857142857142857|\n",
            "|   1127|           11|          5|          1| 2.909090909090909|\n",
            "+-------+-------------+-----------+-----------+------------------+\n",
            "only showing top 20 rows\n",
            "\n"
          ]
        }
      ],
      "source": [
        "#c6\n",
        "df_movie = dfRatings.groupBy(\"movieId\").agg(count(\"rating\") ,max('rating'), min('rating'), mean('rating'))\n",
        "df_movie.show()"
      ]
    },
    {
      "cell_type": "code",
      "execution_count": 86,
      "metadata": {
        "id": "9LbSTy0DKuQd"
      },
      "outputs": [],
      "source": [
        "#cau 7\n",
        "df_group = df_movie.select(col('movieId'), col('count(rating)')).join(dfMovies.select(col(\"movieId\"), col(\"movie title\")), df_movie.movieId==dfMovies.movieId, 'inner')"
      ]
    },
    {
      "cell_type": "code",
      "execution_count": 87,
      "metadata": {
        "colab": {
          "base_uri": "https://localhost:8080/"
        },
        "id": "NpQIja8ALU_y",
        "outputId": "b7f5cd37-7b55-40b7-97d4-9a027f505253"
      },
      "outputs": [
        {
          "output_type": "stream",
          "name": "stdout",
          "text": [
            "+--------------------+\n",
            "|         movie title|\n",
            "+--------------------+\n",
            "|    Star Wars (1977)|\n",
            "|      Contact (1997)|\n",
            "|        Fargo (1996)|\n",
            "|Return of the Jed...|\n",
            "|    Liar Liar (1997)|\n",
            "|English Patient, ...|\n",
            "|       Scream (1996)|\n",
            "|    Toy Story (1995)|\n",
            "|Air Force One (1997)|\n",
            "|Independence Day ...|\n",
            "+--------------------+\n",
            "\n"
          ]
        }
      ],
      "source": [
        "df_group.sort(desc(\"count(rating)\")).select(col(\"movie title\")).limit(10).show()"
      ]
    },
    {
      "cell_type": "code",
      "execution_count": 88,
      "metadata": {
        "colab": {
          "base_uri": "https://localhost:8080/"
        },
        "id": "gFKdPcvXMKsj",
        "outputId": "abe0982b-0470-44cb-8ad8-4bce2c4e1aa4"
      },
      "outputs": [
        {
          "output_type": "stream",
          "name": "stdout",
          "text": [
            "+-------+-------------+-------+--------------------+\n",
            "|movieId|count(rating)|movieId|         movie title|\n",
            "+-------+-------------+-------+--------------------+\n",
            "|   1342|            2|   1342|Convent, The (Con...|\n",
            "|   1591|            6|   1591|Duoluo tianshi (1...|\n",
            "|   1238|            8|   1238|   Full Speed (1996)|\n",
            "|   1580|            1|   1580|     Liebelei (1933)|\n",
            "|   1645|            1|   1645|Butcher Boy, The ...|\n",
            "|    858|            3|    858|Amityville: Dollh...|\n",
            "|   1395|            6|   1395|Hurricane Streets...|\n",
            "|   1522|            7|   1522|Trial by Jury (1994)|\n",
            "|   1507|            1|   1507|Three Lives and O...|\n",
            "|    897|            2|    897| Time Tracers (1995)|\n",
            "|   1460|            1|   1460|    Sleepover (1995)|\n",
            "|   1322|            6|   1322|Metisse (Caf� au ...|\n",
            "|   1270|            7|   1270|Life with Mikey (...|\n",
            "|   1339|            1|   1339|Stefano Quantesto...|\n",
            "|   1650|            1|   1650|Butcher Boy, The ...|\n",
            "|   1618|            1|   1618|King of New York ...|\n",
            "|   1352|            1|   1352|Shadow of Angels ...|\n",
            "|   1223|            4|   1223|King of the Hill ...|\n",
            "|    970|            8|    970| Hear My Song (1991)|\n",
            "|    804|            8|    804|Jimmy Hollywood (...|\n",
            "+-------+-------------+-------+--------------------+\n",
            "only showing top 20 rows\n",
            "\n"
          ]
        }
      ],
      "source": [
        "# cau 8\n",
        "df_group.filter(col('count(rating)') < 10).show()"
      ]
    },
    {
      "cell_type": "code",
      "execution_count": 89,
      "metadata": {
        "colab": {
          "base_uri": "https://localhost:8080/"
        },
        "id": "USqBe_dzNVCQ",
        "outputId": "66bc6d20-5e44-403b-ad32-d0f48d2ee1ec"
      },
      "outputs": [
        {
          "output_type": "stream",
          "name": "stdout",
          "text": [
            "+------------------+\n",
            "|max(count(rating))|\n",
            "+------------------+\n",
            "|               583|\n",
            "+------------------+\n",
            "\n"
          ]
        }
      ],
      "source": [
        "# cau 9 \n",
        "df_group.agg(max(\"count(rating)\")).show()"
      ]
    },
    {
      "cell_type": "code",
      "execution_count": 90,
      "metadata": {
        "colab": {
          "base_uri": "https://localhost:8080/"
        },
        "id": "WoMeeVhRRCmC",
        "outputId": "1a3d1693-7735-4725-be7b-43bdc39984ad"
      },
      "outputs": [
        {
          "output_type": "stream",
          "name": "stdout",
          "text": [
            "+----------------+\n",
            "|     movie title|\n",
            "+----------------+\n",
            "|Star Wars (1977)|\n",
            "+----------------+\n",
            "\n"
          ]
        }
      ],
      "source": [
        "df_group.filter(col(\"count(rating)\") == 583).select(col(\"movie title\")).show()"
      ]
    },
    {
      "cell_type": "code",
      "execution_count": 91,
      "metadata": {
        "id": "N8t5zZcXRY1h"
      },
      "outputs": [],
      "source": [
        "#cau 10\n",
        "dfrt = dfRatings.select(col(\"userId\"), col(\"movieId\").alias(\"movieId_r\"), col(\"rating\"))\n",
        "dfmv = dfMovies.withColumnRenamed('movieId', 'movieId_m')\n",
        "df_gr = dfrt.join(dfmv, dfrt.movieId_r==dfmv.movieId_m, \"inner\")\n",
        "df_gr1 = df_gr.select(col(\"movieId_m\"),col(\"rating\"), *[col(x) for x in df_gr.columns[8:]])"
      ]
    },
    {
      "cell_type": "code",
      "execution_count": 71,
      "metadata": {
        "id": "6nUbUkio6tcR",
        "colab": {
          "base_uri": "https://localhost:8080/"
        },
        "outputId": "a5c2bfe9-9540-45b4-bebe-40bd10dc46dc"
      },
      "outputs": [
        {
          "output_type": "stream",
          "name": "stdout",
          "text": [
            "+---------+------+---+---+---+---+---+----+----+----+----+----+----+----+----+----+----+----+----+----+----+\n",
            "|movieId_m|rating|_c5|_c6|_c7|_c8|_c9|_c10|_c11|_c12|_c13|_c14|_c15|_c16|_c17|_c18|_c19|_c20|_c21|_c22|_c23|\n",
            "+---------+------+---+---+---+---+---+----+----+----+----+----+----+----+----+----+----+----+----+----+----+\n",
            "|      242|     3|  0|  0|  0|  0|  0|   1|   0|   0|   0|   0|   0|   0|   0|   0|   0|   0|   0|   0|   0|\n",
            "|      302|     3|  0|  0|  0|  0|  0|   0|   1|   0|   0|   0|   1|   0|   0|   1|   0|   0|   1|   0|   0|\n",
            "|      377|     1|  0|  0|  0|  0|  1|   1|   0|   0|   0|   0|   0|   0|   0|   0|   0|   0|   0|   0|   0|\n",
            "|       51|     2|  0|  0|  0|  0|  0|   0|   0|   0|   1|   0|   0|   0|   0|   0|   1|   0|   0|   1|   1|\n",
            "|      346|     1|  0|  0|  0|  0|  0|   0|   1|   0|   1|   0|   0|   0|   0|   0|   0|   0|   0|   0|   0|\n",
            "+---------+------+---+---+---+---+---+----+----+----+----+----+----+----+----+----+----+----+----+----+----+\n",
            "only showing top 5 rows\n",
            "\n"
          ]
        }
      ],
      "source": [
        "df_gr1.show(5)"
      ]
    },
    {
      "cell_type": "code",
      "source": [
        "avg_max = 0\n",
        "t = ''\n",
        "for x in df_gr1.columns[2:]:\n",
        "  avg_col = df_gr1.select('rating',col(x)).filter(col(x)!=0).agg(avg('rating')).collect()[0][0]\n",
        "  \n",
        "  if avg_max < avg_col:\n",
        "    avg_max = avg_col\n",
        "    t = x\n",
        "t, avg_max"
      ],
      "metadata": {
        "colab": {
          "base_uri": "https://localhost:8080/"
        },
        "id": "f6J3SCDTZkcR",
        "outputId": "088c2fa8-9002-424d-c40c-93146a7e6fac"
      },
      "execution_count": 119,
      "outputs": [
        {
          "output_type": "execute_result",
          "data": {
            "text/plain": [
              "('_c15', 3.9215233698788228)"
            ]
          },
          "metadata": {},
          "execution_count": 119
        }
      ]
    },
    {
      "cell_type": "code",
      "execution_count": 92,
      "metadata": {
        "id": "rlNWUSlWSMh4"
      },
      "outputs": [],
      "source": [
        "#cau 11\n",
        "dfrt = dfRatings.select(col('userId'), col(\"movieId\"), col('rating'))\n",
        "dfus = dfUsers.select(col('userId'), col('occupation'))\n",
        "df_n = dfrt.join(dfus, dfrt.userId == dfus.userId, \"inner\")\n",
        "df_n1 = df_n.filter((df_n.occupation == \"programmer\") & (df_n.rating >= 4))"
      ]
    },
    {
      "cell_type": "code",
      "execution_count": 93,
      "metadata": {
        "colab": {
          "base_uri": "https://localhost:8080/"
        },
        "id": "ruq5WdlqTMGz",
        "outputId": "2e0d609a-0804-49d1-9a2b-c14a18a2250c"
      },
      "outputs": [
        {
          "output_type": "stream",
          "name": "stdout",
          "text": [
            "+------+------+------+------+------+------+------+------+------+------+------+------+------+------+------+------+------+------+------+\n",
            "|   _c5|   _c6|   _c7|   _c8|   _c9|  _c10|  _c11|  _c12|  _c13|  _c14|  _c15|  _c16|  _c17|  _c18|  _c19|  _c20|  _c21|  _c22|  _c23|\n",
            "+------+------+------+------+------+------+------+------+------+------+------+------+------+------+------+------+------+------+------+\n",
            "|[0, 1]|[0, 1]|[0, 1]|[0, 1]|[0, 1]|[0, 1]|[0, 1]|[0, 1]|[0, 1]|[0, 1]|[0, 1]|[0, 1]|[0, 1]|[0, 1]|[0, 1]|[0, 1]|[0, 1]|[0, 1]|[0, 1]|\n",
            "+------+------+------+------+------+------+------+------+------+------+------+------+------+------+------+------+------+------+------+\n",
            "\n"
          ]
        }
      ],
      "source": [
        "df_n2 = df_n1.select(col('movieId')).join(dfMovies, df_n1.movieId == dfMovies.movieId, \"inner\")\n",
        "df_n3 = df_n2.select(*[col(x) for x in df_n2.columns[6:]])\n",
        "df_nx = [collect_set(c).alias(c) for c in df_n3.columns]\n",
        "result = df_n3.agg(*df_nx)\n",
        "result.show()\n",
        "# co ca 0 va 1 tuc là programmer da rating the loai do"
      ]
    },
    {
      "cell_type": "code",
      "execution_count": null,
      "metadata": {
        "id": "DAC0ByOoYDhp"
      },
      "outputs": [],
      "source": []
    },
    {
      "cell_type": "code",
      "execution_count": 122,
      "metadata": {
        "id": "e_fjQWKwZmUy"
      },
      "outputs": [],
      "source": [
        "#cau 12\n",
        "df_x = dfRatings.select(col('userId'), col(\"movieId\").alias(\"movieId_r\"), col('rating'))\n",
        "df_x1 = dfMovies.join(df_x , dfMovies.movieId==df_x.movieId_r, how = 'inner')"
      ]
    },
    {
      "cell_type": "code",
      "execution_count": 124,
      "metadata": {
        "colab": {
          "base_uri": "https://localhost:8080/"
        },
        "id": "_4g6552UeYUz",
        "outputId": "67e1de5b-d832-4e32-9d95-3abfaa5556b2"
      },
      "outputs": [
        {
          "output_type": "stream",
          "name": "stdout",
          "text": [
            "+-------+-----------+------------+-----------------+--------+---+---+---+---+---+----+----+----+----+----+----+----+----+----+----+----+----+----+----+------+---------+------+\n",
            "|movieId|movie title|release date|video relase date|IMDb URL|_c5|_c6|_c7|_c8|_c9|_c10|_c11|_c12|_c13|_c14|_c15|_c16|_c17|_c18|_c19|_c20|_c21|_c22|_c23|userId|movieId_r|rating|\n",
            "+-------+-----------+------------+-----------------+--------+---+---+---+---+---+----+----+----+----+----+----+----+----+----+----+----+----+----+----+------+---------+------+\n",
            "+-------+-----------+------------+-----------------+--------+---+---+---+---+---+----+----+----+----+----+----+----+----+----+----+----+----+----+----+------+---------+------+\n",
            "\n"
          ]
        }
      ],
      "source": [
        "df_x1.filter((col(\"userId\") == 1) & (col(\"rating\").isNull())).show()"
      ]
    },
    {
      "cell_type": "code",
      "execution_count": 96,
      "metadata": {
        "colab": {
          "base_uri": "https://localhost:8080/"
        },
        "id": "7OuRG4FJexH_",
        "outputId": "d8f8ec5f-bffb-4a6d-c8b1-5f0c98a8efb4"
      },
      "outputs": [
        {
          "output_type": "stream",
          "name": "stdout",
          "text": [
            "+-------+------+\n",
            "|movieId|min_rt|\n",
            "+-------+------+\n",
            "|   1645|     4|\n",
            "|   1650|     4|\n",
            "|   1533|     4|\n",
            "|   1653|     5|\n",
            "|   1525|     4|\n",
            "+-------+------+\n",
            "only showing top 5 rows\n",
            "\n"
          ]
        }
      ],
      "source": [
        "#cau 13\n",
        "df_rt4 = dfRatings.groupBy(col('movieId')).agg(min('rating').alias(\"min_rt\")).filter(col('min_rt') >= 4)\n",
        "df_rt4.show(5)"
      ]
    },
    {
      "cell_type": "code",
      "execution_count": 97,
      "metadata": {
        "colab": {
          "base_uri": "https://localhost:8080/"
        },
        "id": "05K7OIdx68-a",
        "outputId": "b388b56c-a26e-4fb3-d11f-2c5de13b517c"
      },
      "outputs": [
        {
          "output_type": "stream",
          "name": "stdout",
          "text": [
            "+-------+----------+\n",
            "|movieId|occupation|\n",
            "+-------+----------+\n",
            "|    242|    writer|\n",
            "|    302| executive|\n",
            "|    377|    writer|\n",
            "|     51|technician|\n",
            "|    346|  educator|\n",
            "+-------+----------+\n",
            "only showing top 5 rows\n",
            "\n"
          ]
        }
      ],
      "source": [
        "# cau 16\n",
        "df_m = dfRatings.select('userId','movieId').join(dfUsers.select('userId', 'occupation'), dfRatings.userId==dfUsers.userId, 'inner')\n",
        "df_m=df_m.drop('userId')\n",
        "df_m.show(5)"
      ]
    },
    {
      "cell_type": "code",
      "execution_count": 98,
      "metadata": {
        "colab": {
          "base_uri": "https://localhost:8080/"
        },
        "id": "lcmVeSk4-3eS",
        "outputId": "f98f2f6d-04eb-42e7-c152-2a6b666c7d99"
      },
      "outputs": [
        {
          "output_type": "stream",
          "name": "stdout",
          "text": [
            "+-------+-------------+-----+\n",
            "|movieId|   occupation|count|\n",
            "+-------+-------------+-----+\n",
            "|    785|      student|   11|\n",
            "|    603|    marketing|    7|\n",
            "|    289|     educator|   31|\n",
            "|    134|       doctor|    1|\n",
            "|    756|entertainment|    3|\n",
            "|    191|administrator|   21|\n",
            "|    604|     educator|   18|\n",
            "|    552|   programmer|    8|\n",
            "|    671|      student|    4|\n",
            "|    337|       writer|    4|\n",
            "|    469|    executive|    3|\n",
            "|    750|    librarian|    9|\n",
            "|    155|    librarian|    7|\n",
            "|    181|        other|   54|\n",
            "|    781|      student|   24|\n",
            "|     47|       artist|    3|\n",
            "|    298|        other|   21|\n",
            "|    498|    librarian|   12|\n",
            "|    810|     engineer|    4|\n",
            "|    823|administrator|    6|\n",
            "+-------+-------------+-----+\n",
            "only showing top 20 rows\n",
            "\n"
          ]
        }
      ],
      "source": [
        "df_m.groupBy('movieId', 'occupation').count().show()"
      ]
    },
    {
      "cell_type": "code",
      "execution_count": 73,
      "metadata": {
        "id": "wRkvYY-K_DTz"
      },
      "outputs": [],
      "source": []
    },
    {
      "cell_type": "code",
      "source": [],
      "metadata": {
        "id": "jhntCCTHbJMd"
      },
      "execution_count": null,
      "outputs": []
    }
  ],
  "metadata": {
    "colab": {
      "provenance": []
    },
    "kernelspec": {
      "display_name": "Python 3",
      "name": "python3"
    },
    "language_info": {
      "name": "python"
    }
  },
  "nbformat": 4,
  "nbformat_minor": 0
}