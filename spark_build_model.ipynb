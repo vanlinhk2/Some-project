{
  "nbformat": 4,
  "nbformat_minor": 0,
  "metadata": {
    "colab": {
      "provenance": []
    },
    "kernelspec": {
      "name": "python3",
      "display_name": "Python 3"
    },
    "language_info": {
      "name": "python"
    }
  },
  "cells": [
    {
      "cell_type": "code",
      "execution_count": 1,
      "metadata": {
        "colab": {
          "base_uri": "https://localhost:8080/"
        },
        "id": "juA3nnYT2yL8",
        "outputId": "890d8c45-d31b-439e-99e8-12fef1b2518b"
      },
      "outputs": [
        {
          "output_type": "stream",
          "name": "stdout",
          "text": [
            "\u001b[33m\r0% [Working]\u001b[0m\r            \rHit:1 http://archive.ubuntu.com/ubuntu focal InRelease\n",
            "\u001b[33m\r0% [Waiting for headers] [Connecting to security.ubuntu.com (185.125.190.39)] [\u001b[0m\r                                                                               \rGet:2 http://archive.ubuntu.com/ubuntu focal-updates InRelease [114 kB]\n",
            "\r                                                                               \rGet:3 https://cloud.r-project.org/bin/linux/ubuntu focal-cran40/ InRelease [3,622 B]\n",
            "\r                                                                               \rGet:4 https://developer.download.nvidia.com/compute/cuda/repos/ubuntu2004/x86_64  InRelease [1,581 B]\n",
            "\u001b[33m\r0% [2 InRelease 47.5 kB/114 kB 42%] [Waiting for headers] [Connecting to ppa.la\u001b[0m\r                                                                               \rGet:5 http://security.ubuntu.com/ubuntu focal-security InRelease [114 kB]\n",
            "Get:6 http://archive.ubuntu.com/ubuntu focal-backports InRelease [108 kB]\n",
            "Get:7 http://ppa.launchpad.net/c2d4u.team/c2d4u4.0+/ubuntu focal InRelease [18.1 kB]\n",
            "Hit:8 http://ppa.launchpad.net/cran/libgit2/ubuntu focal InRelease\n",
            "Get:9 https://cloud.r-project.org/bin/linux/ubuntu focal-cran40/ Packages [76.4 kB]\n",
            "Hit:10 http://ppa.launchpad.net/deadsnakes/ppa/ubuntu focal InRelease\n",
            "Get:11 https://developer.download.nvidia.com/compute/cuda/repos/ubuntu2004/x86_64  Packages [995 kB]\n",
            "Hit:12 http://ppa.launchpad.net/graphics-drivers/ppa/ubuntu focal InRelease\n",
            "Get:13 http://archive.ubuntu.com/ubuntu focal-updates/restricted amd64 Packages [2,283 kB]\n",
            "Hit:14 http://ppa.launchpad.net/ubuntugis/ppa/ubuntu focal InRelease\n",
            "Get:15 http://archive.ubuntu.com/ubuntu focal-updates/main amd64 Packages [3,114 kB]\n",
            "Get:16 http://archive.ubuntu.com/ubuntu focal-updates/universe amd64 Packages [1,331 kB]\n",
            "Get:17 http://ppa.launchpad.net/c2d4u.team/c2d4u4.0+/ubuntu focal/main Sources [2,499 kB]\n",
            "Get:18 http://security.ubuntu.com/ubuntu focal-security/universe amd64 Packages [1,035 kB]\n",
            "Get:19 http://security.ubuntu.com/ubuntu focal-security/restricted amd64 Packages [2,145 kB]\n",
            "Get:20 http://security.ubuntu.com/ubuntu focal-security/main amd64 Packages [2,632 kB]\n",
            "Get:21 http://ppa.launchpad.net/c2d4u.team/c2d4u4.0+/ubuntu focal/main amd64 Packages [1,182 kB]\n",
            "Fetched 17.7 MB in 3s (5,775 kB/s)\n",
            "Reading package lists... Done\n",
            "Building dependency tree       \n",
            "Reading state information... Done\n",
            "35 packages can be upgraded. Run 'apt list --upgradable' to see them.\n"
          ]
        }
      ],
      "source": [
        "!sudo apt update"
      ]
    },
    {
      "cell_type": "code",
      "source": [
        "!apt-get install openjdk-8-jdk-headless -qq > /dev/null\n",
        "!wget -q https://archive.apache.org/dist/spark/spark-3.0.1/spark-3.0.1-bin-hadoop2.7.tgz\n",
        "!tar xf spark-3.0.1-bin-hadoop2.7.tgz"
      ],
      "metadata": {
        "id": "zK7spj6m3E2c"
      },
      "execution_count": 2,
      "outputs": []
    },
    {
      "cell_type": "code",
      "source": [
        "from google.colab import drive\n",
        "drive.mount('/content/drive')"
      ],
      "metadata": {
        "colab": {
          "base_uri": "https://localhost:8080/"
        },
        "id": "iBb45Xrq3MGr",
        "outputId": "2d1fceed-317d-4647-cfaa-d721018abccf"
      },
      "execution_count": 3,
      "outputs": [
        {
          "output_type": "stream",
          "name": "stdout",
          "text": [
            "Mounted at /content/drive\n"
          ]
        }
      ]
    },
    {
      "cell_type": "code",
      "source": [
        "import os\n",
        "os.environ[\"JAVA_HOME\"] = \"/usr/lib/jvm/java-8-openjdk-amd64\"\n",
        "os.environ[\"SPARK_HOME\"] = \"/content/spark-3.0.1-bin-hadoop2.7\""
      ],
      "metadata": {
        "id": "dFMIAaVs3zF_"
      },
      "execution_count": 4,
      "outputs": []
    },
    {
      "cell_type": "code",
      "source": [
        "!pip install -q findspark"
      ],
      "metadata": {
        "id": "AYXWcRds3-T1"
      },
      "execution_count": 5,
      "outputs": []
    },
    {
      "cell_type": "code",
      "source": [
        "import findspark\n",
        "findspark.init()"
      ],
      "metadata": {
        "id": "t3tfBmyp4Ajy"
      },
      "execution_count": 6,
      "outputs": []
    },
    {
      "cell_type": "code",
      "source": [
        "from pyspark.context import SparkContext\n",
        "#create SparkContext\n",
        "sc = SparkContext(\"local\", \"My First Spark Application\")\n",
        "print(\"SparkContext :\",sc)"
      ],
      "metadata": {
        "colab": {
          "base_uri": "https://localhost:8080/"
        },
        "id": "i-GDf5014Cmg",
        "outputId": "c28c154e-fe28-436f-d4d3-30eef65716cf"
      },
      "execution_count": 7,
      "outputs": [
        {
          "output_type": "stream",
          "name": "stdout",
          "text": [
            "SparkContext : <SparkContext master=local appName=My First Spark Application>\n"
          ]
        }
      ]
    },
    {
      "cell_type": "code",
      "source": [
        "from pyspark.sql.functions import *\n",
        "from pyspark.sql import SparkSession\n",
        "spark = SparkSession.builder.getOrCreate()"
      ],
      "metadata": {
        "id": "iAXFQ5Hl4ERm"
      },
      "execution_count": 8,
      "outputs": []
    },
    {
      "cell_type": "code",
      "source": [
        "df = spark.read.csv('/content/Churn_Modelling.csv', header=True, inferSchema=True)"
      ],
      "metadata": {
        "id": "coSjCSjY4VYd"
      },
      "execution_count": 9,
      "outputs": []
    },
    {
      "cell_type": "code",
      "source": [
        "df.printSchema()"
      ],
      "metadata": {
        "colab": {
          "base_uri": "https://localhost:8080/"
        },
        "id": "Vh-dtOEv4dYU",
        "outputId": "13391a6e-579f-4a86-e603-50e9bda40643"
      },
      "execution_count": null,
      "outputs": [
        {
          "output_type": "stream",
          "name": "stdout",
          "text": [
            "root\n",
            " |-- RowNumber: integer (nullable = true)\n",
            " |-- CustomerId: integer (nullable = true)\n",
            " |-- Surname: string (nullable = true)\n",
            " |-- CreditScore: integer (nullable = true)\n",
            " |-- Geography: string (nullable = true)\n",
            " |-- Gender: string (nullable = true)\n",
            " |-- Age: integer (nullable = true)\n",
            " |-- Tenure: integer (nullable = true)\n",
            " |-- Balance: double (nullable = true)\n",
            " |-- NumOfProducts: integer (nullable = true)\n",
            " |-- HasCrCard: integer (nullable = true)\n",
            " |-- IsActiveMember: integer (nullable = true)\n",
            " |-- EstimatedSalary: double (nullable = true)\n",
            " |-- Exited: integer (nullable = true)\n",
            "\n"
          ]
        }
      ]
    },
    {
      "cell_type": "code",
      "source": [
        "df.count()"
      ],
      "metadata": {
        "colab": {
          "base_uri": "https://localhost:8080/"
        },
        "id": "0zYsZSfOCklz",
        "outputId": "1dbb4d03-5038-4856-e803-2f576b815654"
      },
      "execution_count": null,
      "outputs": [
        {
          "output_type": "execute_result",
          "data": {
            "text/plain": [
              "10000"
            ]
          },
          "metadata": {},
          "execution_count": 11
        }
      ]
    },
    {
      "cell_type": "code",
      "source": [
        "df.distinct().count()"
      ],
      "metadata": {
        "colab": {
          "base_uri": "https://localhost:8080/"
        },
        "id": "wHXkbM7wDMZO",
        "outputId": "52589f52-a41f-450c-e7fb-745950582167"
      },
      "execution_count": null,
      "outputs": [
        {
          "output_type": "execute_result",
          "data": {
            "text/plain": [
              "10000"
            ]
          },
          "metadata": {},
          "execution_count": 12
        }
      ]
    },
    {
      "cell_type": "code",
      "source": [
        "lst = ['CreditScore','Age', 'Tenure', 'Balance', 'NumOfProducts', 'EstimatedSalary']\n",
        "df.select(lst).describe().show()"
      ],
      "metadata": {
        "colab": {
          "base_uri": "https://localhost:8080/"
        },
        "id": "MGVU7uIz4q4R",
        "outputId": "3f3dc605-4267-40f6-b355-b67b75d4cab2"
      },
      "execution_count": null,
      "outputs": [
        {
          "output_type": "stream",
          "name": "stdout",
          "text": [
            "+-------+-----------------+------------------+------------------+-----------------+------------------+-----------------+\n",
            "|summary|      CreditScore|               Age|            Tenure|          Balance|     NumOfProducts|  EstimatedSalary|\n",
            "+-------+-----------------+------------------+------------------+-----------------+------------------+-----------------+\n",
            "|  count|            10000|             10000|             10000|            10000|             10000|            10000|\n",
            "|   mean|         650.5288|           38.9218|            5.0128|76485.88928799961|            1.5302|100090.2398809998|\n",
            "| stddev|96.65329873613035|10.487806451704587|2.8921743770496837|62397.40520238599|0.5816543579989917|57510.49281769821|\n",
            "|    min|              350|                18|                 0|              0.0|                 1|            11.58|\n",
            "|    max|              850|                92|                10|        250898.09|                 4|        199992.48|\n",
            "+-------+-----------------+------------------+------------------+-----------------+------------------+-----------------+\n",
            "\n"
          ]
        }
      ]
    },
    {
      "cell_type": "code",
      "source": [
        "df.agg({'Balance':'skewness'}).show()\n",
        "df.agg({'CreditScore':'skewness'}).show()\n",
        "df.agg({'EstimatedSalary':'skewness'}).show()"
      ],
      "metadata": {
        "id": "fZVUFFJUBHP2",
        "colab": {
          "base_uri": "https://localhost:8080/"
        },
        "outputId": "501bbbd8-7a52-4b60-fd0a-cd66dcbaf29d"
      },
      "execution_count": null,
      "outputs": [
        {
          "output_type": "stream",
          "name": "stdout",
          "text": [
            "+-------------------+\n",
            "|  skewness(Balance)|\n",
            "+-------------------+\n",
            "|-0.1410875437529113|\n",
            "+-------------------+\n",
            "\n",
            "+---------------------+\n",
            "|skewness(CreditScore)|\n",
            "+---------------------+\n",
            "| -0.07159586676212142|\n",
            "+---------------------+\n",
            "\n",
            "+-------------------------+\n",
            "|skewness(EstimatedSalary)|\n",
            "+-------------------------+\n",
            "|     0.002085044844874...|\n",
            "+-------------------------+\n",
            "\n"
          ]
        }
      ]
    },
    {
      "cell_type": "code",
      "source": [
        "df.agg({'Balance':'kurtosis'}).show()\n",
        "df.agg({'CreditScore':'kurtosis'}).show()\n",
        "df.agg({'EstimatedSalary':'kurtosis'}).show()"
      ],
      "metadata": {
        "colab": {
          "base_uri": "https://localhost:8080/"
        },
        "id": "71i1eZ_mFZKB",
        "outputId": "b1aef30f-a6a6-4ae9-f45c-52e0034e2e37"
      },
      "execution_count": null,
      "outputs": [
        {
          "output_type": "stream",
          "name": "stdout",
          "text": [
            "+-------------------+\n",
            "|  kurtosis(Balance)|\n",
            "+-------------------+\n",
            "|-1.4892671063153264|\n",
            "+-------------------+\n",
            "\n",
            "+---------------------+\n",
            "|kurtosis(CreditScore)|\n",
            "+---------------------+\n",
            "|   -0.426112791765187|\n",
            "+---------------------+\n",
            "\n",
            "+-------------------------+\n",
            "|kurtosis(EstimatedSalary)|\n",
            "+-------------------------+\n",
            "|       -1.181527710874244|\n",
            "+-------------------------+\n",
            "\n"
          ]
        }
      ]
    },
    {
      "cell_type": "code",
      "source": [
        "lst1 = ['CreditScore', 'Balance', 'EstimatedSalary']\n",
        "dicts = {}\n",
        "for col in lst1:\n",
        "  quantitles = df.approxQuantile(col, [0.25, 0.75], 0.05)\n",
        "  iqr = quantitles[1] - quantitles[0]\n",
        "  dicts[col] = [quantitles[0] - 1.5*iqr , quantitles[1] + 1.5*iqr]"
      ],
      "metadata": {
        "id": "dBSk_bxCCAZd"
      },
      "execution_count": null,
      "outputs": []
    },
    {
      "cell_type": "code",
      "source": [
        "dicts"
      ],
      "metadata": {
        "colab": {
          "base_uri": "https://localhost:8080/"
        },
        "id": "hMomu6rvEPSh",
        "outputId": "1053b348-c953-4410-8430-9d1032426aa8"
      },
      "execution_count": null,
      "outputs": [
        {
          "output_type": "execute_result",
          "data": {
            "text/plain": [
              "{'CreditScore': [408.0, 888.0],\n",
              " 'Balance': [-185753.28, 309588.8],\n",
              " 'EstimatedSalary': [-78892.52000000002, 275789.88]}"
            ]
          },
          "metadata": {},
          "execution_count": 17
        }
      ]
    },
    {
      "cell_type": "code",
      "source": [
        "df.groupby('Geography').agg(count('Geography'), avg('Age') , avg('Tenure') ,avg('CreditScore'),avg('Balance'), avg('EstimatedSalary')).show()"
      ],
      "metadata": {
        "colab": {
          "base_uri": "https://localhost:8080/"
        },
        "id": "8IJPN3ISGSOu",
        "outputId": "10a6b5d8-d8c3-4d3c-a755-5f36d835396c"
      },
      "execution_count": null,
      "outputs": [
        {
          "output_type": "stream",
          "name": "stdout",
          "text": [
            "+---------+----------------+------------------+-----------------+-----------------+------------------+--------------------+\n",
            "|Geography|count(Geography)|          avg(Age)|      avg(Tenure)| avg(CreditScore)|      avg(Balance)|avg(EstimatedSalary)|\n",
            "+---------+----------------+------------------+-----------------+-----------------+------------------+--------------------+\n",
            "|  Germany|            2509|39.771622160223195|5.009964129135113|651.4535671582304|119730.11613391782|   101113.4351016342|\n",
            "|   France|            5014| 38.51176705225369|5.004587155963303|649.6683286796969|  62092.6365157559|   99899.18081372172|\n",
            "|    Spain|            2477| 38.89099717400081| 5.03229713362939|651.3338716188938| 61818.14776342349|   99440.57228098497|\n",
            "+---------+----------------+------------------+-----------------+-----------------+------------------+--------------------+\n",
            "\n"
          ]
        }
      ]
    },
    {
      "cell_type": "code",
      "source": [
        "df.groupby('Gender').agg( count('Gender'),avg('Age') , avg('Tenure') ,avg('CreditScore'),avg('Balance'), avg('EstimatedSalary')).show()"
      ],
      "metadata": {
        "colab": {
          "base_uri": "https://localhost:8080/"
        },
        "id": "F3Gdg3PBGrJt",
        "outputId": "0b1b992d-86c6-40ff-a016-f92758f5a6c3"
      },
      "execution_count": null,
      "outputs": [
        {
          "output_type": "stream",
          "name": "stdout",
          "text": [
            "+------+-------------+------------------+-----------------+-----------------+-----------------+--------------------+\n",
            "|Gender|count(Gender)|          avg(Age)|      avg(Tenure)| avg(CreditScore)|     avg(Balance)|avg(EstimatedSalary)|\n",
            "+------+-------------+------------------+-----------------+-----------------+-----------------+--------------------+\n",
            "|Female|         4543|39.238388729914156|4.966101694915254| 650.831388950033|75659.36913933513|  100601.54138234648|\n",
            "|  Male|         5457|38.658237126626354|5.051676745464541|650.2768920652373|77173.97450613906|   99664.57693054806|\n",
            "+------+-------------+------------------+-----------------+-----------------+-----------------+--------------------+\n",
            "\n"
          ]
        }
      ]
    },
    {
      "cell_type": "code",
      "source": [
        "df.groupby('Surname').agg(avg('Balance'), count('Surname').alias('count')).orderBy('avg(Balance)', ascending = False).show(10)"
      ],
      "metadata": {
        "colab": {
          "base_uri": "https://localhost:8080/"
        },
        "id": "5lWrS3iDHZcn",
        "outputId": "09b712fe-70f4-490a-a0a3-930af1c1e3a1"
      },
      "execution_count": null,
      "outputs": [
        {
          "output_type": "stream",
          "name": "stdout",
          "text": [
            "+-----------+------------+-----+\n",
            "|    Surname|avg(Balance)|count|\n",
            "+-----------+------------+-----+\n",
            "|     To Rot|   238387.56|    1|\n",
            "|     Haddon|   222267.63|    1|\n",
            "| Despeissis|   203715.15|    1|\n",
            "|     Stokes|   202904.64|    1|\n",
            "|     Bancks|   201009.64|    1|\n",
            "|Christopher|   195238.29|    1|\n",
            "|    Hopwood|   191523.09|    1|\n",
            "|       Slye|   191402.82|    1|\n",
            "|   Belousov|   189443.72|    1|\n",
            "|      Foran|   188455.19|    1|\n",
            "+-----------+------------+-----+\n",
            "only showing top 10 rows\n",
            "\n"
          ]
        }
      ]
    },
    {
      "cell_type": "code",
      "source": [
        "%matplotlib inline\n",
        "import matplotlib.pyplot as plt"
      ],
      "metadata": {
        "id": "Xabhp_wVHkzN"
      },
      "execution_count": 86,
      "outputs": []
    },
    {
      "cell_type": "code",
      "source": [
        "df.show(5)"
      ],
      "metadata": {
        "colab": {
          "base_uri": "https://localhost:8080/"
        },
        "id": "Bp8AeorDJ7Vv",
        "outputId": "522b35d8-0f43-4973-b9bc-3244209b92aa"
      },
      "execution_count": null,
      "outputs": [
        {
          "output_type": "stream",
          "name": "stdout",
          "text": [
            "+---------+----------+--------+-----------+---------+------+---+------+---------+-------------+---------+--------------+---------------+------+\n",
            "|RowNumber|CustomerId| Surname|CreditScore|Geography|Gender|Age|Tenure|  Balance|NumOfProducts|HasCrCard|IsActiveMember|EstimatedSalary|Exited|\n",
            "+---------+----------+--------+-----------+---------+------+---+------+---------+-------------+---------+--------------+---------------+------+\n",
            "|        1|  15634602|Hargrave|        619|   France|Female| 42|     2|      0.0|            1|        1|             1|      101348.88|     1|\n",
            "|        2|  15647311|    Hill|        608|    Spain|Female| 41|     1| 83807.86|            1|        0|             1|      112542.58|     0|\n",
            "|        3|  15619304|    Onio|        502|   France|Female| 42|     8| 159660.8|            3|        1|             0|      113931.57|     1|\n",
            "|        4|  15701354|    Boni|        699|   France|Female| 39|     1|      0.0|            2|        0|             0|       93826.63|     0|\n",
            "|        5|  15737888|Mitchell|        850|    Spain|Female| 43|     2|125510.82|            1|        1|             1|        79084.1|     0|\n",
            "+---------+----------+--------+-----------+---------+------+---+------+---------+-------------+---------+--------------+---------------+------+\n",
            "only showing top 5 rows\n",
            "\n"
          ]
        }
      ]
    },
    {
      "cell_type": "code",
      "source": [
        "cols = ['CreditScore', 'Age', 'Balance', 'EstimatedSalary']\n",
        "dicts_c = {}\n",
        "for col in cols:\n",
        "  dicts_c[col] = df.select(col).filter(df[col].isNotNull()).rdd.flatMap(lambda row: row).collect()"
      ],
      "metadata": {
        "id": "2Xi3D3j_J9lf"
      },
      "execution_count": 95,
      "outputs": []
    },
    {
      "cell_type": "code",
      "source": [
        "fig, ((ax1, ax2),(ax3, ax4)) = plt.subplots(nrows = 2, ncols = 2, figsize = (15, 10))\n",
        "ax1.hist(dicts_c['CreditScore'], bins = 20, width = 15)\n",
        "ax1.set(title = 'CreditScore')\n",
        "\n",
        "ax2.hist(dicts_c['Age'], bins = 20 , width = 3)\n",
        "ax2.set(title = 'Age')\n",
        "\n",
        "ax3.hist(dicts_c['Balance'], bins = 25)\n",
        "ax3.set(title = 'Balance')\n",
        "\n",
        "dicts_c['Balance'] = [value for value in dicts_c['Balance'] if value]\n",
        "ax4.hist(dicts_c['Balance'], bins = 40, width = 5000)\n",
        "ax4.set(title = 'Balance(Not 0)')\n",
        "\n",
        "plt.show()"
      ],
      "metadata": {
        "id": "DYnbu0ObKFW-",
        "colab": {
          "base_uri": "https://localhost:8080/",
          "height": 853
        },
        "outputId": "298f6259-67a4-4925-f8ac-2d0a35ea9716"
      },
      "execution_count": 96,
      "outputs": [
        {
          "output_type": "display_data",
          "data": {
            "text/plain": [
              "<Figure size 1500x1000 with 4 Axes>"
            ],
            "image/png": "[encoded data removed]"
          },
          "metadata": {}
        }
      ]
    },
    {
      "cell_type": "code",
      "source": [
        "fig, (ax1, ax2) = plt.subplots(nrows = 1, ncols = 2, figsize = (10, 5))\n",
        "ax1.boxplot(dicts_c['Age'])\n",
        "ax1.set(title = 'Age')\n",
        "ax2.boxplot(dicts_c['CreditScore'])\n",
        "ax2.set(title = 'CreditScore')\n",
        "plt.show()"
      ],
      "metadata": {
        "colab": {
          "base_uri": "https://localhost:8080/",
          "height": 468
        },
        "id": "R-6QMMDNM-Ni",
        "outputId": "2973dc7a-5ccd-4e19-89f9-cef861a473a3"
      },
      "execution_count": null,
      "outputs": [
        {
          "output_type": "display_data",
          "data": {
            "text/plain": [
              "<Figure size 1000x500 with 2 Axes>"
            ],
            "image/png": "[encoded data removed]"
          },
          "metadata": {}
        }
      ]
    },
    {
      "cell_type": "code",
      "source": [],
      "metadata": {
        "id": "cUjzDPm7NIqY"
      },
      "execution_count": null,
      "outputs": []
    },
    {
      "cell_type": "code",
      "source": [
        "df1 = df.select([col for col in df.columns[2:]])\n",
        "df0 = df1"
      ],
      "metadata": {
        "id": "GSDgLSDuQQmf"
      },
      "execution_count": 10,
      "outputs": []
    },
    {
      "cell_type": "code",
      "source": [
        "df1.show(5)"
      ],
      "metadata": {
        "colab": {
          "base_uri": "https://localhost:8080/"
        },
        "id": "zSiHVPq1QkT_",
        "outputId": "0e146c10-d6c8-4a4b-c0cf-7099a82d4b87"
      },
      "execution_count": null,
      "outputs": [
        {
          "output_type": "stream",
          "name": "stdout",
          "text": [
            "+--------+-----------+---------+------+---+------+---------+-------------+---------+--------------+---------------+------+\n",
            "| Surname|CreditScore|Geography|Gender|Age|Tenure|  Balance|NumOfProducts|HasCrCard|IsActiveMember|EstimatedSalary|Exited|\n",
            "+--------+-----------+---------+------+---+------+---------+-------------+---------+--------------+---------------+------+\n",
            "|Hargrave|        619|   France|Female| 42|     2|      0.0|            1|        1|             1|      101348.88|     1|\n",
            "|    Hill|        608|    Spain|Female| 41|     1| 83807.86|            1|        0|             1|      112542.58|     0|\n",
            "|    Onio|        502|   France|Female| 42|     8| 159660.8|            3|        1|             0|      113931.57|     1|\n",
            "|    Boni|        699|   France|Female| 39|     1|      0.0|            2|        0|             0|       93826.63|     0|\n",
            "|Mitchell|        850|    Spain|Female| 43|     2|125510.82|            1|        1|             1|        79084.1|     0|\n",
            "+--------+-----------+---------+------+---+------+---------+-------------+---------+--------------+---------------+------+\n",
            "only showing top 5 rows\n",
            "\n"
          ]
        }
      ]
    },
    {
      "cell_type": "code",
      "source": [
        "from pyspark.ml.feature import StringIndexer"
      ],
      "metadata": {
        "id": "haTfJ2d7RBAf"
      },
      "execution_count": 11,
      "outputs": []
    },
    {
      "cell_type": "code",
      "source": [
        "indexer = StringIndexer(inputCols=[\"Surname\",\"Geography\", \"Gender\"], outputCols=[\"Surname_index\", \"Geography_index\", \"Gender_index\"])\n",
        "data = indexer.fit(df1).transform(df1)"
      ],
      "metadata": {
        "id": "jzVgwuTtRvhO"
      },
      "execution_count": 12,
      "outputs": []
    },
    {
      "cell_type": "code",
      "source": [
        "from pyspark.ml.feature import VectorAssembler\n",
        "assembler = VectorAssembler(inputCols=['CreditScore', 'Age', 'Tenure', 'Balance', 'NumOfProducts', \n",
        "                                 'HasCrCard', 'IsActiveMember', 'EstimatedSalary', 'Surname_index', \n",
        "                                 'Geography_index', 'Gender_index'],outputCol='features')\n",
        "data = assembler.transform(data)"
      ],
      "metadata": {
        "id": "tOFVmaoWTAKe"
      },
      "execution_count": 13,
      "outputs": []
    },
    {
      "cell_type": "code",
      "source": [
        "from pyspark.ml.classification import LogisticRegression\n",
        "lr = LogisticRegression(featuresCol = 'features', labelCol = 'Exited')"
      ],
      "metadata": {
        "id": "jYt28HPCTlkx"
      },
      "execution_count": 14,
      "outputs": []
    },
    {
      "cell_type": "code",
      "source": [
        "df_train, df_test = data.randomSplit([0.7, 0.3] , seed = 123)"
      ],
      "metadata": {
        "id": "-V9XoK1TUGSf"
      },
      "execution_count": 15,
      "outputs": []
    },
    {
      "cell_type": "code",
      "source": [
        "model = lr.fit(df_train)"
      ],
      "metadata": {
        "id": "Hgq7XbmKUZjv"
      },
      "execution_count": 16,
      "outputs": []
    },
    {
      "cell_type": "code",
      "source": [
        "test_model = model.transform(df_test)"
      ],
      "metadata": {
        "id": "42abmw8QUflf"
      },
      "execution_count": 17,
      "outputs": []
    },
    {
      "cell_type": "code",
      "source": [
        "test_model.take(1)"
      ],
      "metadata": {
        "colab": {
          "base_uri": "https://localhost:8080/"
        },
        "id": "9cSSYOiSUuF_",
        "outputId": "a0959cab-847b-4ef6-f084-04bc746bd390"
      },
      "execution_count": 18,
      "outputs": [
        {
          "output_type": "execute_result",
          "data": {
            "text/plain": [
              "[Row(Surname='Abbie', CreditScore=818, Geography='France', Gender='Female', Age=31, Tenure=1, Balance=186796.37, NumOfProducts=1, HasCrCard=0, IsActiveMember=0, EstimatedSalary=178252.63, Exited=0, Surname_index=1374.0, Geography_index=0.0, Gender_index=1.0, features=DenseVector([818.0, 31.0, 1.0, 186796.37, 1.0, 0.0, 0.0, 178252.63, 1374.0, 0.0, 1.0]), rawPrediction=DenseVector([0.8178, -0.8178]), probability=DenseVector([0.6938, 0.3062]), prediction=0.0)]"
            ]
          },
          "metadata": {},
          "execution_count": 18
        }
      ]
    },
    {
      "cell_type": "code",
      "source": [
        "test_model.show(5)"
      ],
      "metadata": {
        "colab": {
          "base_uri": "https://localhost:8080/"
        },
        "id": "2b9VY3JJUviQ",
        "outputId": "41c8a600-82c1-46dc-a747-5610b9ad068d"
      },
      "execution_count": 19,
      "outputs": [
        {
          "output_type": "stream",
          "name": "stdout",
          "text": [
            "+---------+-----------+---------+------+---+------+---------+-------------+---------+--------------+---------------+------+-------------+---------------+------------+--------------------+--------------------+--------------------+----------+\n",
            "|  Surname|CreditScore|Geography|Gender|Age|Tenure|  Balance|NumOfProducts|HasCrCard|IsActiveMember|EstimatedSalary|Exited|Surname_index|Geography_index|Gender_index|            features|       rawPrediction|         probability|prediction|\n",
            "+---------+-----------+---------+------+---+------+---------+-------------+---------+--------------+---------------+------+-------------+---------------+------------+--------------------+--------------------+--------------------+----------+\n",
            "|    Abbie|        818|   France|Female| 31|     1|186796.37|            1|        0|             0|      178252.63|     0|       1374.0|            0.0|         1.0|[818.0,31.0,1.0,1...|[0.81781058640990...|[0.69377139083150...|       0.0|\n",
            "|   Abbott|        850|   France|  Male| 29|     6|      0.0|            2|        1|             1|       10672.54|     0|        621.0|            0.0|         0.0|[850.0,29.0,6.0,0...|[3.75491339298045...|[0.97713267472140...|       0.0|\n",
            "|  Abdulov|        667|    Spain|Female| 36|     3|121542.57|            2|        1|             1|      186841.71|     0|       1021.0|            2.0|         1.0|[667.0,36.0,3.0,1...|[1.70170055660078...|[0.84575670689703...|       0.0|\n",
            "|Abernathy|        641|    Spain|Female| 36|     1|      0.0|            2|        1|             0|      102021.39|     0|       1022.0|            2.0|         1.0|[641.0,36.0,1.0,0...|[1.23028699636491...|[0.77386880139825...|       0.0|\n",
            "|  Abramov|        755|   France|  Male| 41|     6|104817.41|            1|        1|             0|      126013.58|     1|       1377.0|            0.0|         0.0|[755.0,41.0,6.0,1...|[1.18198652590891...|[0.76530479839604...|       0.0|\n",
            "+---------+-----------+---------+------+---+------+---------+-------------+---------+--------------+---------------+------+-------------+---------------+------------+--------------------+--------------------+--------------------+----------+\n",
            "only showing top 5 rows\n",
            "\n"
          ]
        }
      ]
    },
    {
      "cell_type": "code",
      "source": [
        "from pyspark.ml.evaluation import BinaryClassificationEvaluator, MulticlassClassificationEvaluator"
      ],
      "metadata": {
        "id": "yopLD4kJQqgK"
      },
      "execution_count": 20,
      "outputs": []
    },
    {
      "cell_type": "code",
      "source": [
        "evaluator =BinaryClassificationEvaluator(rawPredictionCol=\"rawPrediction\", labelCol=\"Exited\", metricName=\"areaUnderROC\")"
      ],
      "metadata": {
        "id": "GcYkE5REU9-w"
      },
      "execution_count": 21,
      "outputs": []
    },
    {
      "cell_type": "code",
      "source": [
        "print('Area Under ROC = %g'%evaluator.evaluate(test_model, {evaluator.metricName: 'areaUnderROC'}))\n",
        "print('Area Under PR = %g'%evaluator.evaluate(test_model, {evaluator.metricName: 'areaUnderPR'}))"
      ],
      "metadata": {
        "colab": {
          "base_uri": "https://localhost:8080/"
        },
        "id": "C3d2iwu4VUGZ",
        "outputId": "c74154a2-5bea-4f76-90e8-ac1c8a243394"
      },
      "execution_count": 22,
      "outputs": [
        {
          "output_type": "stream",
          "name": "stdout",
          "text": [
            "Area Under ROC = 0.752328\n",
            "Area Under PR = 0.446535\n"
          ]
        }
      ]
    },
    {
      "cell_type": "code",
      "source": [
        "evaluator = MulticlassClassificationEvaluator(predictionCol=\"prediction\", labelCol=\"Exited\")\n",
        "print(\"Accuracy = %g\" %evaluator.evaluate(test_model, {evaluator.metricName: \"accuracy\"}))\n",
        "print(\"F1-score = %g\" %evaluator.evaluate(test_model, {evaluator.metricName: \"f1\"}))\n",
        "print('Recall = %g'%evaluator.evaluate(test_model, {evaluator.metricName: 'weightedRecall'}))\n",
        "print('Balance accurary = %g'%evaluator.evaluate(test_model, {evaluator.metricName: 'weightedPrecision'}))"
      ],
      "metadata": {
        "colab": {
          "base_uri": "https://localhost:8080/"
        },
        "id": "XslQNpU_RhpV",
        "outputId": "799713b5-7ebe-4b57-cf21-d831713c3ad7"
      },
      "execution_count": 23,
      "outputs": [
        {
          "output_type": "stream",
          "name": "stdout",
          "text": [
            "Accuracy = 0.813438\n",
            "F1-score = 0.766852\n",
            "Recall = 0.813438\n",
            "Balance accurary = 0.786514\n"
          ]
        }
      ]
    },
    {
      "cell_type": "code",
      "source": [
        "from pyspark.ml import Pipeline"
      ],
      "metadata": {
        "id": "L8OyuSRuUu35"
      },
      "execution_count": 24,
      "outputs": []
    },
    {
      "cell_type": "code",
      "source": [
        "pipeline = Pipeline(stages = [assembler, lr])"
      ],
      "metadata": {
        "id": "TSbS_VbYUzPA"
      },
      "execution_count": 25,
      "outputs": []
    },
    {
      "cell_type": "code",
      "source": [
        "df0 =indexer.fit(df0).transform(df0)"
      ],
      "metadata": {
        "id": "5fPare9lUHZd"
      },
      "execution_count": 26,
      "outputs": []
    },
    {
      "cell_type": "code",
      "source": [
        "df_train2, df_test2 = df0.randomSplit([0.7, 0.3] ,seed = 123)"
      ],
      "metadata": {
        "id": "LQFMc3Pk3Kw3"
      },
      "execution_count": 27,
      "outputs": []
    },
    {
      "cell_type": "code",
      "source": [
        "model2 = pipeline.fit(df_train2)"
      ],
      "metadata": {
        "id": "aUoLI4tT3bVK"
      },
      "execution_count": 28,
      "outputs": []
    },
    {
      "cell_type": "code",
      "source": [
        "test_model2 = model2.transform(df_test2)"
      ],
      "metadata": {
        "id": "QTIn792w3h5c"
      },
      "execution_count": 29,
      "outputs": []
    },
    {
      "cell_type": "code",
      "source": [
        "test_model2.show(5)"
      ],
      "metadata": {
        "id": "MxtYados3kVs",
        "colab": {
          "base_uri": "https://localhost:8080/"
        },
        "outputId": "3e3f7ab8-e711-49c1-ef99-ec149ba51c73"
      },
      "execution_count": 30,
      "outputs": [
        {
          "output_type": "stream",
          "name": "stdout",
          "text": [
            "+---------+-----------+---------+------+---+------+---------+-------------+---------+--------------+---------------+------+-------------+---------------+------------+--------------------+--------------------+--------------------+----------+\n",
            "|  Surname|CreditScore|Geography|Gender|Age|Tenure|  Balance|NumOfProducts|HasCrCard|IsActiveMember|EstimatedSalary|Exited|Surname_index|Geography_index|Gender_index|            features|       rawPrediction|         probability|prediction|\n",
            "+---------+-----------+---------+------+---+------+---------+-------------+---------+--------------+---------------+------+-------------+---------------+------------+--------------------+--------------------+--------------------+----------+\n",
            "|    Abbie|        818|   France|Female| 31|     1|186796.37|            1|        0|             0|      178252.63|     0|       1374.0|            0.0|         1.0|[818.0,31.0,1.0,1...|[0.81781058640990...|[0.69377139083150...|       0.0|\n",
            "|   Abbott|        850|   France|  Male| 29|     6|      0.0|            2|        1|             1|       10672.54|     0|        621.0|            0.0|         0.0|[850.0,29.0,6.0,0...|[3.75491339298045...|[0.97713267472140...|       0.0|\n",
            "|  Abdulov|        667|    Spain|Female| 36|     3|121542.57|            2|        1|             1|      186841.71|     0|       1021.0|            2.0|         1.0|[667.0,36.0,3.0,1...|[1.70170055660078...|[0.84575670689703...|       0.0|\n",
            "|Abernathy|        641|    Spain|Female| 36|     1|      0.0|            2|        1|             0|      102021.39|     0|       1022.0|            2.0|         1.0|[641.0,36.0,1.0,0...|[1.23028699636491...|[0.77386880139825...|       0.0|\n",
            "|  Abramov|        755|   France|  Male| 41|     6|104817.41|            1|        1|             0|      126013.58|     1|       1377.0|            0.0|         0.0|[755.0,41.0,6.0,1...|[1.18198652590891...|[0.76530479839604...|       0.0|\n",
            "+---------+-----------+---------+------+---+------+---------+-------------+---------+--------------+---------------+------+-------------+---------------+------------+--------------------+--------------------+--------------------+----------+\n",
            "only showing top 5 rows\n",
            "\n"
          ]
        }
      ]
    },
    {
      "cell_type": "code",
      "source": [
        "path = '...'\n",
        "pipeline.write().overwrite().save(path)"
      ],
      "metadata": {
        "id": "bLW8zvwfWzZc"
      },
      "execution_count": 31,
      "outputs": []
    },
    {
      "cell_type": "code",
      "source": [
        "loadedpipeline = Pipeline.load(path)"
      ],
      "metadata": {
        "id": "O5XqS7_xxbYa"
      },
      "execution_count": 32,
      "outputs": []
    },
    {
      "cell_type": "code",
      "source": [
        "model_load = loadedpipeline.fit(df_train2).transform(df_test2)"
      ],
      "metadata": {
        "id": "X5wCrI90yHLQ"
      },
      "execution_count": 33,
      "outputs": []
    },
    {
      "cell_type": "code",
      "source": [
        "model_load.show(5)"
      ],
      "metadata": {
        "colab": {
          "base_uri": "https://localhost:8080/"
        },
        "id": "KDPiJNH6yud1",
        "outputId": "cb37f054-4f02-4fe9-e39b-80a3eb17d32c"
      },
      "execution_count": 34,
      "outputs": [
        {
          "output_type": "stream",
          "name": "stdout",
          "text": [
            "+---------+-----------+---------+------+---+------+---------+-------------+---------+--------------+---------------+------+-------------+---------------+------------+--------------------+--------------------+--------------------+----------+\n",
            "|  Surname|CreditScore|Geography|Gender|Age|Tenure|  Balance|NumOfProducts|HasCrCard|IsActiveMember|EstimatedSalary|Exited|Surname_index|Geography_index|Gender_index|            features|       rawPrediction|         probability|prediction|\n",
            "+---------+-----------+---------+------+---+------+---------+-------------+---------+--------------+---------------+------+-------------+---------------+------------+--------------------+--------------------+--------------------+----------+\n",
            "|    Abbie|        818|   France|Female| 31|     1|186796.37|            1|        0|             0|      178252.63|     0|       1374.0|            0.0|         1.0|[818.0,31.0,1.0,1...|[0.81781058640990...|[0.69377139083150...|       0.0|\n",
            "|   Abbott|        850|   France|  Male| 29|     6|      0.0|            2|        1|             1|       10672.54|     0|        621.0|            0.0|         0.0|[850.0,29.0,6.0,0...|[3.75491339298045...|[0.97713267472140...|       0.0|\n",
            "|  Abdulov|        667|    Spain|Female| 36|     3|121542.57|            2|        1|             1|      186841.71|     0|       1021.0|            2.0|         1.0|[667.0,36.0,3.0,1...|[1.70170055660078...|[0.84575670689703...|       0.0|\n",
            "|Abernathy|        641|    Spain|Female| 36|     1|      0.0|            2|        1|             0|      102021.39|     0|       1022.0|            2.0|         1.0|[641.0,36.0,1.0,0...|[1.23028699636491...|[0.77386880139825...|       0.0|\n",
            "|  Abramov|        755|   France|  Male| 41|     6|104817.41|            1|        1|             0|      126013.58|     1|       1377.0|            0.0|         0.0|[755.0,41.0,6.0,1...|[1.18198652590891...|[0.76530479839604...|       0.0|\n",
            "+---------+-----------+---------+------+---+------+---------+-------------+---------+--------------+---------------+------+-------------+---------------+------------+--------------------+--------------------+--------------------+----------+\n",
            "only showing top 5 rows\n",
            "\n"
          ]
        }
      ]
    },
    {
      "cell_type": "code",
      "source": [
        "evaluator = MulticlassClassificationEvaluator(predictionCol=\"prediction\", labelCol=\"Exited\")\n",
        "print(\"Accuracy = %g\" %evaluator.evaluate(model_load, {evaluator.metricName: \"accuracy\"}))\n",
        "print(\"F1-score = %g\" %evaluator.evaluate(model_load, {evaluator.metricName: \"f1\"}))\n",
        "print('Recall = %g'%evaluator.evaluate(model_load, {evaluator.metricName: 'weightedRecall'}))\n",
        "print('Balance accurary = %g'%evaluator.evaluate(model_load, {evaluator.metricName: 'weightedPrecision'}))"
      ],
      "metadata": {
        "colab": {
          "base_uri": "https://localhost:8080/"
        },
        "id": "kHbmLK2hzsuh",
        "outputId": "e82d86a6-b665-45fe-d5bd-529a1e79719e"
      },
      "execution_count": 35,
      "outputs": [
        {
          "output_type": "stream",
          "name": "stdout",
          "text": [
            "Accuracy = 0.813438\n",
            "F1-score = 0.766852\n",
            "Recall = 0.813438\n",
            "Balance accurary = 0.786514\n"
          ]
        }
      ]
    },
    {
      "cell_type": "code",
      "source": [
        "dfn = df0.select('CreditScore' , *[col for col in df0.columns[4:]])"
      ],
      "metadata": {
        "id": "dgb1Ys_usLX-"
      },
      "execution_count": 76,
      "outputs": []
    },
    {
      "cell_type": "code",
      "source": [
        "from pyspark.ml.stat import Correlation\n",
        "from pyspark.ml.feature import VectorAssembler\n",
        "vector_col = 'corr_features'\n",
        "input_col = ['CreditScore','Age', 'Tenure', 'Balance', 'NumOfProducts', 'HasCrCard', 'IsActiveMember', 'EstimatedSalary', 'Exited', 'Surname_index', 'Geography_index', 'Gender_index']\n",
        "assembler = VectorAssembler(inputCols=dfn.columns, outputCol=vector_col)\n",
        "df_vector = assembler.transform(dfn).select(vector_col)\n",
        "matrix = Correlation.corr(df_vector, vector_col)"
      ],
      "metadata": {
        "id": "Fjx8tdB50BHr"
      },
      "execution_count": 49,
      "outputs": []
    },
    {
      "cell_type": "code",
      "source": [
        "matrix = Correlation.corr(df_vector, 'corr_features').collect()[0][0] "
      ],
      "metadata": {
        "id": "JIf4LcfErhqb"
      },
      "execution_count": 54,
      "outputs": []
    },
    {
      "cell_type": "code",
      "source": [
        "import pandas as pd\n",
        "corr_matrix = matrix.toArray().tolist() "
      ],
      "metadata": {
        "id": "lInYqbmzuifN"
      },
      "execution_count": 57,
      "outputs": []
    },
    {
      "cell_type": "code",
      "source": [],
      "metadata": {
        "id": "i-MXF8fWvWSi"
      },
      "execution_count": 59,
      "outputs": []
    },
    {
      "cell_type": "code",
      "source": [
        "corr_matrix_df = pd.DataFrame(data=corr_matrix, columns = input_col, index=input_col) \n",
        "corr_matrix_df.style.background_gradient(cmap='coolwarm').set_precision(2)"
      ],
      "metadata": {
        "id": "RWEjEvU0vI-T",
        "outputId": "0ae0972e-7933-46e8-ce52-f0281afc6f04",
        "colab": {
          "base_uri": "https://localhost:8080/",
          "height": 462
        }
      },
      "execution_count": 60,
      "outputs": [
        {
          "output_type": "stream",
          "name": "stderr",
          "text": [
            "<ipython-input-60-5b7ed136bd29>:2: FutureWarning: this method is deprecated in favour of `Styler.format(precision=..)`\n",
            "  corr_matrix_df.style.background_gradient(cmap='coolwarm').set_precision(2)\n"
          ]
        },
        {
          "output_type": "execute_result",
          "data": {
            "text/plain": [
              "<pandas.io.formats.style.Styler at 0x7f72412e2f10>"
            ],
            "text/html": [
              "<style type=\"text/css\">\n",
              "#T_e2c6b_row0_col0, #T_e2c6b_row1_col1, #T_e2c6b_row2_col2, #T_e2c6b_row3_col3, #T_e2c6b_row4_col4, #T_e2c6b_row5_col5, #T_e2c6b_row6_col6, #T_e2c6b_row7_col7, #T_e2c6b_row8_col8, #T_e2c6b_row9_col9, #T_e2c6b_row10_col10, #T_e2c6b_row11_col11 {\n",
              "  background-color: #b40426;\n",
              "  color: #f1f1f1;\n",
              "}\n",
              "#T_e2c6b_row0_col1, #T_e2c6b_row0_col11, #T_e2c6b_row1_col9, #T_e2c6b_row2_col0, #T_e2c6b_row3_col7, #T_e2c6b_row4_col7, #T_e2c6b_row5_col9, #T_e2c6b_row6_col9, #T_e2c6b_row7_col0, #T_e2c6b_row9_col11, #T_e2c6b_row11_col9 {\n",
              "  background-color: #4257c9;\n",
              "  color: #f1f1f1;\n",
              "}\n",
              "#T_e2c6b_row0_col2, #T_e2c6b_row1_col10, #T_e2c6b_row7_col11, #T_e2c6b_row10_col2, #T_e2c6b_row11_col0 {\n",
              "  background-color: #4358cb;\n",
              "  color: #f1f1f1;\n",
              "}\n",
              "#T_e2c6b_row0_col3, #T_e2c6b_row3_col8, #T_e2c6b_row5_col4, #T_e2c6b_row10_col4 {\n",
              "  background-color: #88abfd;\n",
              "  color: #000000;\n",
              "}\n",
              "#T_e2c6b_row0_col4, #T_e2c6b_row2_col4, #T_e2c6b_row7_col3, #T_e2c6b_row7_col4 {\n",
              "  background-color: #8badfd;\n",
              "  color: #000000;\n",
              "}\n",
              "#T_e2c6b_row0_col5, #T_e2c6b_row0_col7, #T_e2c6b_row3_col9, #T_e2c6b_row3_col11, #T_e2c6b_row8_col9, #T_e2c6b_row9_col2, #T_e2c6b_row10_col7, #T_e2c6b_row11_col5 {\n",
              "  background-color: #3d50c3;\n",
              "  color: #f1f1f1;\n",
              "}\n",
              "#T_e2c6b_row0_col6 {\n",
              "  background-color: #6c8ff1;\n",
              "  color: #f1f1f1;\n",
              "}\n",
              "#T_e2c6b_row0_col8, #T_e2c6b_row2_col6, #T_e2c6b_row6_col1 {\n",
              "  background-color: #5d7ce6;\n",
              "  color: #f1f1f1;\n",
              "}\n",
              "#T_e2c6b_row0_col9, #T_e2c6b_row4_col2 {\n",
              "  background-color: #465ecf;\n",
              "  color: #f1f1f1;\n",
              "}\n",
              "#T_e2c6b_row0_col10, #T_e2c6b_row1_col2, #T_e2c6b_row2_col7, #T_e2c6b_row3_col2, #T_e2c6b_row4_col5, #T_e2c6b_row5_col1, #T_e2c6b_row5_col11, #T_e2c6b_row9_col5, #T_e2c6b_row10_col9, #T_e2c6b_row10_col11, #T_e2c6b_row11_col7 {\n",
              "  background-color: #3f53c6;\n",
              "  color: #f1f1f1;\n",
              "}\n",
              "#T_e2c6b_row1_col0, #T_e2c6b_row2_col1, #T_e2c6b_row5_col0, #T_e2c6b_row7_col1, #T_e2c6b_row7_col9, #T_e2c6b_row8_col7 {\n",
              "  background-color: #4055c8;\n",
              "  color: #f1f1f1;\n",
              "}\n",
              "#T_e2c6b_row1_col3 {\n",
              "  background-color: #8fb1fe;\n",
              "  color: #000000;\n",
              "}\n",
              "#T_e2c6b_row1_col4, #T_e2c6b_row1_col6 {\n",
              "  background-color: #7ea1fa;\n",
              "  color: #f1f1f1;\n",
              "}\n",
              "#T_e2c6b_row1_col5, #T_e2c6b_row2_col9, #T_e2c6b_row3_col4, #T_e2c6b_row3_col5, #T_e2c6b_row4_col1, #T_e2c6b_row4_col3, #T_e2c6b_row5_col7, #T_e2c6b_row5_col10, #T_e2c6b_row6_col2, #T_e2c6b_row6_col5, #T_e2c6b_row6_col7, #T_e2c6b_row6_col8, #T_e2c6b_row6_col11, #T_e2c6b_row8_col0, #T_e2c6b_row8_col6, #T_e2c6b_row11_col10 {\n",
              "  background-color: #3b4cc0;\n",
              "  color: #f1f1f1;\n",
              "}\n",
              "#T_e2c6b_row1_col7, #T_e2c6b_row2_col11, #T_e2c6b_row7_col5, #T_e2c6b_row7_col10, #T_e2c6b_row8_col5, #T_e2c6b_row9_col10, #T_e2c6b_row10_col5 {\n",
              "  background-color: #3c4ec2;\n",
              "  color: #f1f1f1;\n",
              "}\n",
              "#T_e2c6b_row1_col8 {\n",
              "  background-color: #bad0f8;\n",
              "  color: #000000;\n",
              "}\n",
              "#T_e2c6b_row1_col11, #T_e2c6b_row5_col2 {\n",
              "  background-color: #4961d2;\n",
              "  color: #f1f1f1;\n",
              "}\n",
              "#T_e2c6b_row2_col3, #T_e2c6b_row6_col3, #T_e2c6b_row11_col3 {\n",
              "  background-color: #84a7fc;\n",
              "  color: #f1f1f1;\n",
              "}\n",
              "#T_e2c6b_row2_col5, #T_e2c6b_row4_col0, #T_e2c6b_row9_col1 {\n",
              "  background-color: #455cce;\n",
              "  color: #f1f1f1;\n",
              "}\n",
              "#T_e2c6b_row2_col8, #T_e2c6b_row5_col6 {\n",
              "  background-color: #6180e9;\n",
              "  color: #f1f1f1;\n",
              "}\n",
              "#T_e2c6b_row2_col10, #T_e2c6b_row4_col9, #T_e2c6b_row4_col10, #T_e2c6b_row6_col10, #T_e2c6b_row8_col2, #T_e2c6b_row9_col7, #T_e2c6b_row11_col2 {\n",
              "  background-color: #3e51c5;\n",
              "  color: #f1f1f1;\n",
              "}\n",
              "#T_e2c6b_row3_col0, #T_e2c6b_row7_col2, #T_e2c6b_row10_col0 {\n",
              "  background-color: #445acc;\n",
              "  color: #f1f1f1;\n",
              "}\n",
              "#T_e2c6b_row3_col1, #T_e2c6b_row11_col1 {\n",
              "  background-color: #4b64d5;\n",
              "  color: #f1f1f1;\n",
              "}\n",
              "#T_e2c6b_row3_col6, #T_e2c6b_row5_col8, #T_e2c6b_row7_col6, #T_e2c6b_row8_col11, #T_e2c6b_row9_col8 {\n",
              "  background-color: #6282ea;\n",
              "  color: #f1f1f1;\n",
              "}\n",
              "#T_e2c6b_row3_col10 {\n",
              "  background-color: #516ddb;\n",
              "  color: #f1f1f1;\n",
              "}\n",
              "#T_e2c6b_row4_col6, #T_e2c6b_row10_col6 {\n",
              "  background-color: #6788ee;\n",
              "  color: #f1f1f1;\n",
              "}\n",
              "#T_e2c6b_row4_col8 {\n",
              "  background-color: #5673e0;\n",
              "  color: #f1f1f1;\n",
              "}\n",
              "#T_e2c6b_row4_col11, #T_e2c6b_row8_col10, #T_e2c6b_row9_col0 {\n",
              "  background-color: #485fd1;\n",
              "  color: #f1f1f1;\n",
              "}\n",
              "#T_e2c6b_row5_col3 {\n",
              "  background-color: #82a6fb;\n",
              "  color: #f1f1f1;\n",
              "}\n",
              "#T_e2c6b_row6_col0, #T_e2c6b_row10_col1 {\n",
              "  background-color: #4a63d3;\n",
              "  color: #f1f1f1;\n",
              "}\n",
              "#T_e2c6b_row6_col4 {\n",
              "  background-color: #89acfd;\n",
              "  color: #000000;\n",
              "}\n",
              "#T_e2c6b_row7_col8 {\n",
              "  background-color: #688aef;\n",
              "  color: #f1f1f1;\n",
              "}\n",
              "#T_e2c6b_row8_col1 {\n",
              "  background-color: #a1c0ff;\n",
              "  color: #000000;\n",
              "}\n",
              "#T_e2c6b_row8_col3 {\n",
              "  background-color: #a6c4fe;\n",
              "  color: #000000;\n",
              "}\n",
              "#T_e2c6b_row8_col4 {\n",
              "  background-color: #7a9df8;\n",
              "  color: #f1f1f1;\n",
              "}\n",
              "#T_e2c6b_row9_col3, #T_e2c6b_row9_col4, #T_e2c6b_row11_col8 {\n",
              "  background-color: #85a8fc;\n",
              "  color: #f1f1f1;\n",
              "}\n",
              "#T_e2c6b_row9_col6 {\n",
              "  background-color: #6687ed;\n",
              "  color: #f1f1f1;\n",
              "}\n",
              "#T_e2c6b_row10_col3 {\n",
              "  background-color: #9abbff;\n",
              "  color: #000000;\n",
              "}\n",
              "#T_e2c6b_row10_col8 {\n",
              "  background-color: #6f92f3;\n",
              "  color: #f1f1f1;\n",
              "}\n",
              "#T_e2c6b_row11_col4 {\n",
              "  background-color: #8caffe;\n",
              "  color: #000000;\n",
              "}\n",
              "#T_e2c6b_row11_col6 {\n",
              "  background-color: #5e7de7;\n",
              "  color: #f1f1f1;\n",
              "}\n",
              "</style>\n",
              "<table id=\"T_e2c6b\" class=\"dataframe\">\n",
              "  <thead>\n",
              "    <tr>\n",
              "      <th class=\"blank level0\" >&nbsp;</th>\n",
              "      <th id=\"T_e2c6b_level0_col0\" class=\"col_heading level0 col0\" >CreditScore</th>\n",
              "      <th id=\"T_e2c6b_level0_col1\" class=\"col_heading level0 col1\" >Age</th>\n",
              "      <th id=\"T_e2c6b_level0_col2\" class=\"col_heading level0 col2\" >Tenure</th>\n",
              "      <th id=\"T_e2c6b_level0_col3\" class=\"col_heading level0 col3\" >Balance</th>\n",
              "      <th id=\"T_e2c6b_level0_col4\" class=\"col_heading level0 col4\" >NumOfProducts</th>\n",
              "      <th id=\"T_e2c6b_level0_col5\" class=\"col_heading level0 col5\" >HasCrCard</th>\n",
              "      <th id=\"T_e2c6b_level0_col6\" class=\"col_heading level0 col6\" >IsActiveMember</th>\n",
              "      <th id=\"T_e2c6b_level0_col7\" class=\"col_heading level0 col7\" >EstimatedSalary</th>\n",
              "      <th id=\"T_e2c6b_level0_col8\" class=\"col_heading level0 col8\" >Exited</th>\n",
              "      <th id=\"T_e2c6b_level0_col9\" class=\"col_heading level0 col9\" >Surname_index</th>\n",
              "      <th id=\"T_e2c6b_level0_col10\" class=\"col_heading level0 col10\" >Geography_index</th>\n",
              "      <th id=\"T_e2c6b_level0_col11\" class=\"col_heading level0 col11\" >Gender_index</th>\n",
              "    </tr>\n",
              "  </thead>\n",
              "  <tbody>\n",
              "    <tr>\n",
              "      <th id=\"T_e2c6b_level0_row0\" class=\"row_heading level0 row0\" >CreditScore</th>\n",
              "      <td id=\"T_e2c6b_row0_col0\" class=\"data row0 col0\" >1.00</td>\n",
              "      <td id=\"T_e2c6b_row0_col1\" class=\"data row0 col1\" >-0.00</td>\n",
              "      <td id=\"T_e2c6b_row0_col2\" class=\"data row0 col2\" >0.00</td>\n",
              "      <td id=\"T_e2c6b_row0_col3\" class=\"data row0 col3\" >0.01</td>\n",
              "      <td id=\"T_e2c6b_row0_col4\" class=\"data row0 col4\" >0.01</td>\n",
              "      <td id=\"T_e2c6b_row0_col5\" class=\"data row0 col5\" >-0.01</td>\n",
              "      <td id=\"T_e2c6b_row0_col6\" class=\"data row0 col6\" >0.03</td>\n",
              "      <td id=\"T_e2c6b_row0_col7\" class=\"data row0 col7\" >-0.00</td>\n",
              "      <td id=\"T_e2c6b_row0_col8\" class=\"data row0 col8\" >-0.03</td>\n",
              "      <td id=\"T_e2c6b_row0_col9\" class=\"data row0 col9\" >0.02</td>\n",
              "      <td id=\"T_e2c6b_row0_col10\" class=\"data row0 col10\" >0.01</td>\n",
              "      <td id=\"T_e2c6b_row0_col11\" class=\"data row0 col11\" >0.00</td>\n",
              "    </tr>\n",
              "    <tr>\n",
              "      <th id=\"T_e2c6b_level0_row1\" class=\"row_heading level0 row1\" >Age</th>\n",
              "      <td id=\"T_e2c6b_row1_col0\" class=\"data row1 col0\" >-0.00</td>\n",
              "      <td id=\"T_e2c6b_row1_col1\" class=\"data row1 col1\" >1.00</td>\n",
              "      <td id=\"T_e2c6b_row1_col2\" class=\"data row1 col2\" >-0.01</td>\n",
              "      <td id=\"T_e2c6b_row1_col3\" class=\"data row1 col3\" >0.03</td>\n",
              "      <td id=\"T_e2c6b_row1_col4\" class=\"data row1 col4\" >-0.03</td>\n",
              "      <td id=\"T_e2c6b_row1_col5\" class=\"data row1 col5\" >-0.01</td>\n",
              "      <td id=\"T_e2c6b_row1_col6\" class=\"data row1 col6\" >0.09</td>\n",
              "      <td id=\"T_e2c6b_row1_col7\" class=\"data row1 col7\" >-0.01</td>\n",
              "      <td id=\"T_e2c6b_row1_col8\" class=\"data row1 col8\" >0.29</td>\n",
              "      <td id=\"T_e2c6b_row1_col9\" class=\"data row1 col9\" >0.01</td>\n",
              "      <td id=\"T_e2c6b_row1_col10\" class=\"data row1 col10\" >0.02</td>\n",
              "      <td id=\"T_e2c6b_row1_col11\" class=\"data row1 col11\" >0.03</td>\n",
              "    </tr>\n",
              "    <tr>\n",
              "      <th id=\"T_e2c6b_level0_row2\" class=\"row_heading level0 row2\" >Tenure</th>\n",
              "      <td id=\"T_e2c6b_row2_col0\" class=\"data row2 col0\" >0.00</td>\n",
              "      <td id=\"T_e2c6b_row2_col1\" class=\"data row2 col1\" >-0.01</td>\n",
              "      <td id=\"T_e2c6b_row2_col2\" class=\"data row2 col2\" >1.00</td>\n",
              "      <td id=\"T_e2c6b_row2_col3\" class=\"data row2 col3\" >-0.01</td>\n",
              "      <td id=\"T_e2c6b_row2_col4\" class=\"data row2 col4\" >0.01</td>\n",
              "      <td id=\"T_e2c6b_row2_col5\" class=\"data row2 col5\" >0.02</td>\n",
              "      <td id=\"T_e2c6b_row2_col6\" class=\"data row2 col6\" >-0.03</td>\n",
              "      <td id=\"T_e2c6b_row2_col7\" class=\"data row2 col7\" >0.01</td>\n",
              "      <td id=\"T_e2c6b_row2_col8\" class=\"data row2 col8\" >-0.01</td>\n",
              "      <td id=\"T_e2c6b_row2_col9\" class=\"data row2 col9\" >-0.02</td>\n",
              "      <td id=\"T_e2c6b_row2_col10\" class=\"data row2 col10\" >0.00</td>\n",
              "      <td id=\"T_e2c6b_row2_col11\" class=\"data row2 col11\" >-0.01</td>\n",
              "    </tr>\n",
              "    <tr>\n",
              "      <th id=\"T_e2c6b_level0_row3\" class=\"row_heading level0 row3\" >Balance</th>\n",
              "      <td id=\"T_e2c6b_row3_col0\" class=\"data row3 col0\" >0.01</td>\n",
              "      <td id=\"T_e2c6b_row3_col1\" class=\"data row3 col1\" >0.03</td>\n",
              "      <td id=\"T_e2c6b_row3_col2\" class=\"data row3 col2\" >-0.01</td>\n",
              "      <td id=\"T_e2c6b_row3_col3\" class=\"data row3 col3\" >1.00</td>\n",
              "      <td id=\"T_e2c6b_row3_col4\" class=\"data row3 col4\" >-0.30</td>\n",
              "      <td id=\"T_e2c6b_row3_col5\" class=\"data row3 col5\" >-0.01</td>\n",
              "      <td id=\"T_e2c6b_row3_col6\" class=\"data row3 col6\" >-0.01</td>\n",
              "      <td id=\"T_e2c6b_row3_col7\" class=\"data row3 col7\" >0.01</td>\n",
              "      <td id=\"T_e2c6b_row3_col8\" class=\"data row3 col8\" >0.12</td>\n",
              "      <td id=\"T_e2c6b_row3_col9\" class=\"data row3 col9\" >-0.01</td>\n",
              "      <td id=\"T_e2c6b_row3_col10\" class=\"data row3 col10\" >0.07</td>\n",
              "      <td id=\"T_e2c6b_row3_col11\" class=\"data row3 col11\" >-0.01</td>\n",
              "    </tr>\n",
              "    <tr>\n",
              "      <th id=\"T_e2c6b_level0_row4\" class=\"row_heading level0 row4\" >NumOfProducts</th>\n",
              "      <td id=\"T_e2c6b_row4_col0\" class=\"data row4 col0\" >0.01</td>\n",
              "      <td id=\"T_e2c6b_row4_col1\" class=\"data row4 col1\" >-0.03</td>\n",
              "      <td id=\"T_e2c6b_row4_col2\" class=\"data row4 col2\" >0.01</td>\n",
              "      <td id=\"T_e2c6b_row4_col3\" class=\"data row4 col3\" >-0.30</td>\n",
              "      <td id=\"T_e2c6b_row4_col4\" class=\"data row4 col4\" >1.00</td>\n",
              "      <td id=\"T_e2c6b_row4_col5\" class=\"data row4 col5\" >0.00</td>\n",
              "      <td id=\"T_e2c6b_row4_col6\" class=\"data row4 col6\" >0.01</td>\n",
              "      <td id=\"T_e2c6b_row4_col7\" class=\"data row4 col7\" >0.01</td>\n",
              "      <td id=\"T_e2c6b_row4_col8\" class=\"data row4 col8\" >-0.05</td>\n",
              "      <td id=\"T_e2c6b_row4_col9\" class=\"data row4 col9\" >-0.01</td>\n",
              "      <td id=\"T_e2c6b_row4_col10\" class=\"data row4 col10\" >0.00</td>\n",
              "      <td id=\"T_e2c6b_row4_col11\" class=\"data row4 col11\" >0.02</td>\n",
              "    </tr>\n",
              "    <tr>\n",
              "      <th id=\"T_e2c6b_level0_row5\" class=\"row_heading level0 row5\" >HasCrCard</th>\n",
              "      <td id=\"T_e2c6b_row5_col0\" class=\"data row5 col0\" >-0.01</td>\n",
              "      <td id=\"T_e2c6b_row5_col1\" class=\"data row5 col1\" >-0.01</td>\n",
              "      <td id=\"T_e2c6b_row5_col2\" class=\"data row5 col2\" >0.02</td>\n",
              "      <td id=\"T_e2c6b_row5_col3\" class=\"data row5 col3\" >-0.01</td>\n",
              "      <td id=\"T_e2c6b_row5_col4\" class=\"data row5 col4\" >0.00</td>\n",
              "      <td id=\"T_e2c6b_row5_col5\" class=\"data row5 col5\" >1.00</td>\n",
              "      <td id=\"T_e2c6b_row5_col6\" class=\"data row5 col6\" >-0.01</td>\n",
              "      <td id=\"T_e2c6b_row5_col7\" class=\"data row5 col7\" >-0.01</td>\n",
              "      <td id=\"T_e2c6b_row5_col8\" class=\"data row5 col8\" >-0.01</td>\n",
              "      <td id=\"T_e2c6b_row5_col9\" class=\"data row5 col9\" >0.00</td>\n",
              "      <td id=\"T_e2c6b_row5_col10\" class=\"data row5 col10\" >-0.01</td>\n",
              "      <td id=\"T_e2c6b_row5_col11\" class=\"data row5 col11\" >-0.01</td>\n",
              "    </tr>\n",
              "    <tr>\n",
              "      <th id=\"T_e2c6b_level0_row6\" class=\"row_heading level0 row6\" >IsActiveMember</th>\n",
              "      <td id=\"T_e2c6b_row6_col0\" class=\"data row6 col0\" >0.03</td>\n",
              "      <td id=\"T_e2c6b_row6_col1\" class=\"data row6 col1\" >0.09</td>\n",
              "      <td id=\"T_e2c6b_row6_col2\" class=\"data row6 col2\" >-0.03</td>\n",
              "      <td id=\"T_e2c6b_row6_col3\" class=\"data row6 col3\" >-0.01</td>\n",
              "      <td id=\"T_e2c6b_row6_col4\" class=\"data row6 col4\" >0.01</td>\n",
              "      <td id=\"T_e2c6b_row6_col5\" class=\"data row6 col5\" >-0.01</td>\n",
              "      <td id=\"T_e2c6b_row6_col6\" class=\"data row6 col6\" >1.00</td>\n",
              "      <td id=\"T_e2c6b_row6_col7\" class=\"data row6 col7\" >-0.01</td>\n",
              "      <td id=\"T_e2c6b_row6_col8\" class=\"data row6 col8\" >-0.16</td>\n",
              "      <td id=\"T_e2c6b_row6_col9\" class=\"data row6 col9\" >0.01</td>\n",
              "      <td id=\"T_e2c6b_row6_col10\" class=\"data row6 col10\" >0.01</td>\n",
              "      <td id=\"T_e2c6b_row6_col11\" class=\"data row6 col11\" >-0.02</td>\n",
              "    </tr>\n",
              "    <tr>\n",
              "      <th id=\"T_e2c6b_level0_row7\" class=\"row_heading level0 row7\" >EstimatedSalary</th>\n",
              "      <td id=\"T_e2c6b_row7_col0\" class=\"data row7 col0\" >-0.00</td>\n",
              "      <td id=\"T_e2c6b_row7_col1\" class=\"data row7 col1\" >-0.01</td>\n",
              "      <td id=\"T_e2c6b_row7_col2\" class=\"data row7 col2\" >0.01</td>\n",
              "      <td id=\"T_e2c6b_row7_col3\" class=\"data row7 col3\" >0.01</td>\n",
              "      <td id=\"T_e2c6b_row7_col4\" class=\"data row7 col4\" >0.01</td>\n",
              "      <td id=\"T_e2c6b_row7_col5\" class=\"data row7 col5\" >-0.01</td>\n",
              "      <td id=\"T_e2c6b_row7_col6\" class=\"data row7 col6\" >-0.01</td>\n",
              "      <td id=\"T_e2c6b_row7_col7\" class=\"data row7 col7\" >1.00</td>\n",
              "      <td id=\"T_e2c6b_row7_col8\" class=\"data row7 col8\" >0.01</td>\n",
              "      <td id=\"T_e2c6b_row7_col9\" class=\"data row7 col9\" >0.00</td>\n",
              "      <td id=\"T_e2c6b_row7_col10\" class=\"data row7 col10\" >-0.00</td>\n",
              "      <td id=\"T_e2c6b_row7_col11\" class=\"data row7 col11\" >0.01</td>\n",
              "    </tr>\n",
              "    <tr>\n",
              "      <th id=\"T_e2c6b_level0_row8\" class=\"row_heading level0 row8\" >Exited</th>\n",
              "      <td id=\"T_e2c6b_row8_col0\" class=\"data row8 col0\" >-0.03</td>\n",
              "      <td id=\"T_e2c6b_row8_col1\" class=\"data row8 col1\" >0.29</td>\n",
              "      <td id=\"T_e2c6b_row8_col2\" class=\"data row8 col2\" >-0.01</td>\n",
              "      <td id=\"T_e2c6b_row8_col3\" class=\"data row8 col3\" >0.12</td>\n",
              "      <td id=\"T_e2c6b_row8_col4\" class=\"data row8 col4\" >-0.05</td>\n",
              "      <td id=\"T_e2c6b_row8_col5\" class=\"data row8 col5\" >-0.01</td>\n",
              "      <td id=\"T_e2c6b_row8_col6\" class=\"data row8 col6\" >-0.16</td>\n",
              "      <td id=\"T_e2c6b_row8_col7\" class=\"data row8 col7\" >0.01</td>\n",
              "      <td id=\"T_e2c6b_row8_col8\" class=\"data row8 col8\" >1.00</td>\n",
              "      <td id=\"T_e2c6b_row8_col9\" class=\"data row8 col9\" >-0.01</td>\n",
              "      <td id=\"T_e2c6b_row8_col10\" class=\"data row8 col10\" >0.04</td>\n",
              "      <td id=\"T_e2c6b_row8_col11\" class=\"data row8 col11\" >0.11</td>\n",
              "    </tr>\n",
              "    <tr>\n",
              "      <th id=\"T_e2c6b_level0_row9\" class=\"row_heading level0 row9\" >Surname_index</th>\n",
              "      <td id=\"T_e2c6b_row9_col0\" class=\"data row9 col0\" >0.02</td>\n",
              "      <td id=\"T_e2c6b_row9_col1\" class=\"data row9 col1\" >0.01</td>\n",
              "      <td id=\"T_e2c6b_row9_col2\" class=\"data row9 col2\" >-0.02</td>\n",
              "      <td id=\"T_e2c6b_row9_col3\" class=\"data row9 col3\" >-0.01</td>\n",
              "      <td id=\"T_e2c6b_row9_col4\" class=\"data row9 col4\" >-0.01</td>\n",
              "      <td id=\"T_e2c6b_row9_col5\" class=\"data row9 col5\" >0.00</td>\n",
              "      <td id=\"T_e2c6b_row9_col6\" class=\"data row9 col6\" >0.01</td>\n",
              "      <td id=\"T_e2c6b_row9_col7\" class=\"data row9 col7\" >0.00</td>\n",
              "      <td id=\"T_e2c6b_row9_col8\" class=\"data row9 col8\" >-0.01</td>\n",
              "      <td id=\"T_e2c6b_row9_col9\" class=\"data row9 col9\" >1.00</td>\n",
              "      <td id=\"T_e2c6b_row9_col10\" class=\"data row9 col10\" >-0.00</td>\n",
              "      <td id=\"T_e2c6b_row9_col11\" class=\"data row9 col11\" >0.00</td>\n",
              "    </tr>\n",
              "    <tr>\n",
              "      <th id=\"T_e2c6b_level0_row10\" class=\"row_heading level0 row10\" >Geography_index</th>\n",
              "      <td id=\"T_e2c6b_row10_col0\" class=\"data row10 col0\" >0.01</td>\n",
              "      <td id=\"T_e2c6b_row10_col1\" class=\"data row10 col1\" >0.02</td>\n",
              "      <td id=\"T_e2c6b_row10_col2\" class=\"data row10 col2\" >0.00</td>\n",
              "      <td id=\"T_e2c6b_row10_col3\" class=\"data row10 col3\" >0.07</td>\n",
              "      <td id=\"T_e2c6b_row10_col4\" class=\"data row10 col4\" >0.00</td>\n",
              "      <td id=\"T_e2c6b_row10_col5\" class=\"data row10 col5\" >-0.01</td>\n",
              "      <td id=\"T_e2c6b_row10_col6\" class=\"data row10 col6\" >0.01</td>\n",
              "      <td id=\"T_e2c6b_row10_col7\" class=\"data row10 col7\" >-0.00</td>\n",
              "      <td id=\"T_e2c6b_row10_col8\" class=\"data row10 col8\" >0.04</td>\n",
              "      <td id=\"T_e2c6b_row10_col9\" class=\"data row10 col9\" >-0.00</td>\n",
              "      <td id=\"T_e2c6b_row10_col10\" class=\"data row10 col10\" >1.00</td>\n",
              "      <td id=\"T_e2c6b_row10_col11\" class=\"data row10 col11\" >-0.00</td>\n",
              "    </tr>\n",
              "    <tr>\n",
              "      <th id=\"T_e2c6b_level0_row11\" class=\"row_heading level0 row11\" >Gender_index</th>\n",
              "      <td id=\"T_e2c6b_row11_col0\" class=\"data row11 col0\" >0.00</td>\n",
              "      <td id=\"T_e2c6b_row11_col1\" class=\"data row11 col1\" >0.03</td>\n",
              "      <td id=\"T_e2c6b_row11_col2\" class=\"data row11 col2\" >-0.01</td>\n",
              "      <td id=\"T_e2c6b_row11_col3\" class=\"data row11 col3\" >-0.01</td>\n",
              "      <td id=\"T_e2c6b_row11_col4\" class=\"data row11 col4\" >0.02</td>\n",
              "      <td id=\"T_e2c6b_row11_col5\" class=\"data row11 col5\" >-0.01</td>\n",
              "      <td id=\"T_e2c6b_row11_col6\" class=\"data row11 col6\" >-0.02</td>\n",
              "      <td id=\"T_e2c6b_row11_col7\" class=\"data row11 col7\" >0.01</td>\n",
              "      <td id=\"T_e2c6b_row11_col8\" class=\"data row11 col8\" >0.11</td>\n",
              "      <td id=\"T_e2c6b_row11_col9\" class=\"data row11 col9\" >0.00</td>\n",
              "      <td id=\"T_e2c6b_row11_col10\" class=\"data row11 col10\" >-0.00</td>\n",
              "      <td id=\"T_e2c6b_row11_col11\" class=\"data row11 col11\" >1.00</td>\n",
              "    </tr>\n",
              "  </tbody>\n",
              "</table>\n"
            ]
          },
          "metadata": {},
          "execution_count": 60
        }
      ]
    },
    {
      "cell_type": "code",
      "source": [
        "variable_pre = ['Age','Balance','EstimatedSalary', 'Geography_index', 'Gender_index']"
      ],
      "metadata": {
        "id": "rqPdQiEovlsD"
      },
      "execution_count": 74,
      "outputs": []
    },
    {
      "cell_type": "code",
      "source": [
        "dfn.show(5)"
      ],
      "metadata": {
        "id": "mfjrtY7ywgJv",
        "outputId": "fb793e43-6b4d-4e09-c1c9-c5ddac5b2fbc",
        "colab": {
          "base_uri": "https://localhost:8080/"
        }
      },
      "execution_count": 65,
      "outputs": [
        {
          "output_type": "stream",
          "name": "stdout",
          "text": [
            "+-----------+---+------+---------+-------------+---------+--------------+---------------+------+-------------+---------------+------------+\n",
            "|CreditScore|Age|Tenure|  Balance|NumOfProducts|HasCrCard|IsActiveMember|EstimatedSalary|Exited|Surname_index|Geography_index|Gender_index|\n",
            "+-----------+---+------+---------+-------------+---------+--------------+---------------+------+-------------+---------------+------------+\n",
            "|        619| 42|     2|      0.0|            1|        1|             1|      101348.88|     1|       1958.0|            0.0|         1.0|\n",
            "|        608| 41|     1| 83807.86|            1|        0|             1|      112542.58|     0|         79.0|            2.0|         1.0|\n",
            "|        502| 42|     8| 159660.8|            3|        1|             0|      113931.57|     1|        336.0|            0.0|         1.0|\n",
            "|        699| 39|     1|      0.0|            2|        0|             0|       93826.63|     0|        128.0|            0.0|         1.0|\n",
            "|        850| 43|     2|125510.82|            1|        1|             1|        79084.1|     0|         32.0|            2.0|         1.0|\n",
            "+-----------+---+------+---------+-------------+---------+--------------+---------------+------+-------------+---------------+------------+\n",
            "only showing top 5 rows\n",
            "\n"
          ]
        }
      ]
    },
    {
      "cell_type": "code",
      "source": [
        "assembler = VectorAssembler(inputCols=variable_pre ,outputCol='features')\n",
        "dfn = assembler.transform(dfn)"
      ],
      "metadata": {
        "id": "jEFaAEfUwLDa"
      },
      "execution_count": 77,
      "outputs": []
    },
    {
      "cell_type": "code",
      "source": [
        "lr = LogisticRegression(featuresCol = 'features', labelCol = 'Exited')"
      ],
      "metadata": {
        "id": "GdQ7vwN6yHKY"
      },
      "execution_count": 78,
      "outputs": []
    },
    {
      "cell_type": "code",
      "source": [
        "df_train, df_test = dfn.randomSplit([0.7, 0.3] , seed = 645)\n",
        "model_new = lr.fit(df_train)\n",
        "test_model_new = model_new.transform(df_test)\n",
        "test_model_new.show(5)"
      ],
      "metadata": {
        "id": "Oik_KBXOyt0p",
        "outputId": "624c2e3b-675e-4eaa-9b38-e56f93875b1a",
        "colab": {
          "base_uri": "https://localhost:8080/"
        }
      },
      "execution_count": 79,
      "outputs": [
        {
          "output_type": "stream",
          "name": "stdout",
          "text": [
            "+-----------+---+------+---------+-------------+---------+--------------+---------------+------+-------------+---------------+------------+--------------------+--------------------+--------------------+----------+\n",
            "|CreditScore|Age|Tenure|  Balance|NumOfProducts|HasCrCard|IsActiveMember|EstimatedSalary|Exited|Surname_index|Geography_index|Gender_index|            features|       rawPrediction|         probability|prediction|\n",
            "+-----------+---+------+---------+-------------+---------+--------------+---------------+------+-------------+---------------+------------+--------------------+--------------------+--------------------+----------+\n",
            "|        358| 52|     8|143542.36|            3|        1|             0|      141959.11|     1|       1385.0|            2.0|         1.0|[52.0,143542.36,1...|[-0.0663399484096...|[0.48342109275034...|       1.0|\n",
            "|        365| 30|     0|127760.07|            1|        1|             0|       81537.85|     1|       1278.0|            1.0|         0.0|[30.0,127760.07,8...|[2.10395821411253...|[0.89128730141043...|       0.0|\n",
            "|        376| 29|     4|115046.74|            4|        1|             0|      119346.88|     1|       1269.0|            1.0|         1.0|[29.0,115046.74,1...|[1.67283831796863...|[0.84195387584034...|       0.0|\n",
            "|        405| 39|    10|      0.0|            1|        1|             0|      160810.85|     1|        758.0|            0.0|         0.0|(5,[0,2],[39.0,16...|[2.23257399246771...|[0.90313676757187...|       0.0|\n",
            "|        410| 50|     2|102278.79|            2|        1|             0|       89822.48|     0|        565.0|            1.0|         1.0|[50.0,102278.79,8...|[0.37888902121706...|[0.59360512043998...|       0.0|\n",
            "+-----------+---+------+---------+-------------+---------+--------------+---------------+------+-------------+---------------+------------+--------------------+--------------------+--------------------+----------+\n",
            "only showing top 5 rows\n",
            "\n"
          ]
        }
      ]
    },
    {
      "cell_type": "code",
      "source": [
        "evaluator = MulticlassClassificationEvaluator(predictionCol=\"prediction\", labelCol=\"Exited\")\n",
        "print(\"Accuracy = %g\" %evaluator.evaluate(test_model_new, {evaluator.metricName: \"accuracy\"}))\n",
        "print(\"F1-score = %g\" %evaluator.evaluate(test_model_new, {evaluator.metricName: \"f1\"}))\n",
        "print('Recall = %g'%evaluator.evaluate(test_model_new, {evaluator.metricName: 'weightedRecall'}))\n",
        "print('Balance accurary = %g'%evaluator.evaluate(test_model_new, {evaluator.metricName: 'weightedPrecision'}))"
      ],
      "metadata": {
        "id": "knvXyXFhy95Z",
        "outputId": "a691975e-0f71-45b2-8b19-a8475e09861f",
        "colab": {
          "base_uri": "https://localhost:8080/"
        }
      },
      "execution_count": 80,
      "outputs": [
        {
          "output_type": "stream",
          "name": "stdout",
          "text": [
            "Accuracy = 0.780268\n",
            "F1-score = 0.722842\n",
            "Recall = 0.780268\n",
            "Balance accurary = 0.714051\n"
          ]
        }
      ]
    },
    {
      "cell_type": "code",
      "source": [
        "evaluator =BinaryClassificationEvaluator(rawPredictionCol=\"rawPrediction\", labelCol=\"Exited\", metricName=\"areaUnderROC\")\n",
        "print('Area Under ROC = %g'%evaluator.evaluate(test_model_new, {evaluator.metricName: 'areaUnderROC'}))\n",
        "print('Area Under PR = %g'%evaluator.evaluate(test_model_new, {evaluator.metricName: 'areaUnderPR'}))"
      ],
      "metadata": {
        "id": "D3JIxO75zvNc",
        "outputId": "20f79c2b-ccb9-4339-d7a4-80616fd2e2d0",
        "colab": {
          "base_uri": "https://localhost:8080/"
        }
      },
      "execution_count": 81,
      "outputs": [
        {
          "output_type": "stream",
          "name": "stdout",
          "text": [
            "Area Under ROC = 0.730652\n",
            "Area Under PR = 0.37242\n"
          ]
        }
      ]
    },
    {
      "cell_type": "code",
      "source": [],
      "metadata": {
        "id": "X_sWuTYk0HeU"
      },
      "execution_count": null,
      "outputs": []
    }
  ]
}